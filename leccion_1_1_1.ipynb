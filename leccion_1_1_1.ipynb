{
  "nbformat": 4,
  "nbformat_minor": 0,
  "metadata": {
    "colab": {
      "provenance": [],
      "authorship_tag": "ABX9TyP5I9LRaYItBMak5hoaFdUc",
      "include_colab_link": true
    },
    "kernelspec": {
      "name": "python3",
      "display_name": "Python 3"
    },
    "language_info": {
      "name": "python"
    }
  },
  "cells": [
    {
      "cell_type": "markdown",
      "metadata": {
        "id": "view-in-github",
        "colab_type": "text"
      },
      "source": [
        "<a href=\"https://colab.research.google.com/github/financieras/big_data/blob/main/leccion_1_1_1.ipynb\" target=\"_parent\"><img src=\"https://colab.research.google.com/assets/colab-badge.svg\" alt=\"Open In Colab\"/></a>"
      ]
    },
    {
      "cell_type": "markdown",
      "source": [
        "# Lección 1.1.1. **Definición y Características del Big Data**\n",
        "\n",
        "### **Objetivos de aprendizaje**\n",
        "\n",
        "Al finalizar esta lección, el estudiante será capaz de:\n",
        "\n",
        "* Comprender qué es el Big Data y por qué surge.\n",
        "* Identificar las características que lo diferencian del procesamiento tradicional.\n",
        "* Reconocer su impacto en la toma de decisiones y en la economía digital."
      ],
      "metadata": {
        "id": "iYFhrmy3eRWD"
      }
    },
    {
      "cell_type": "markdown",
      "source": [
        "## **1. Concepto de Big Data**\n",
        "\n",
        "* **Definición general:** Conjunto de tecnologías, metodologías y herramientas que permiten almacenar, procesar y analizar grandes volúmenes de datos —estructurados, semiestructurados y no estructurados— que superan la capacidad de los sistemas tradicionales.\n",
        "* **Perspectiva tecnológica:** Uso de arquitecturas distribuidas (como Hadoop o Spark) para manejar datos a gran escala.\n",
        "* **Perspectiva de negocio:** Big Data como fuente de ventaja competitiva, innovación y personalización.\n",
        "* **Datos masivos vs. datos tradicionales:** diferencias en volumen, complejidad, velocidad de generación y variabilidad."
      ],
      "metadata": {
        "id": "eF68sRGSfPgE"
      }
    },
    {
      "cell_type": "markdown",
      "source": [
        "## **2. Fuentes de datos Big Data**\n",
        "\n",
        "* **Datos generados por humanos:** redes sociales, transacciones, dispositivos móviles.\n",
        "* **Datos generados por máquinas:** sensores IoT, logs de servidores, sistemas industriales.\n",
        "* **Datos públicos y abiertos:** gobiernos, instituciones científicas, meteorología, etc."
      ],
      "metadata": {
        "id": "xEe5ERanfnPs"
      }
    },
    {
      "cell_type": "markdown",
      "source": [
        "## **3. Importancia del Big Data**\n",
        "\n",
        "* **Valor estratégico:** convierte los datos en conocimiento útil para mejorar decisiones, procesos y productos.\n",
        "* **Transformación digital:** base de la analítica avanzada, la IA y la automatización.\n",
        "* **Impacto económico:** reducción de costes, detección de fraudes, mantenimiento predictivo, marketing inteligente, etc."
      ],
      "metadata": {
        "id": "cUMGgi19f338"
      }
    },
    {
      "cell_type": "markdown",
      "source": [
        "## **4. Retos del Big Data**\n",
        "\n",
        "* Escalabilidad del almacenamiento y procesamiento.\n",
        "* Garantizar la calidad y gobernanza de los datos.\n",
        "* Privacidad, seguridad y cumplimiento normativo.\n",
        "* Falta de talento especializado."
      ],
      "metadata": {
        "id": "iJ8Utv13gDhM"
      }
    },
    {
      "cell_type": "markdown",
      "source": [
        "## **4. Retos del Big Data**\n",
        "\n",
        "* Escalabilidad del almacenamiento y procesamiento.\n",
        "* Garantizar la calidad y gobernanza de los datos.\n",
        "* Privacidad, seguridad y cumplimiento normativo.\n",
        "* Falta de talento especializado."
      ],
      "metadata": {
        "id": "oaeICtNegRPE"
      }
    },
    {
      "cell_type": "markdown",
      "source": [
        "## **5. Conclusión**\n",
        "\n",
        "El Big Data no es solo cuestión de “datos grandes”, sino de **extraer valor de ellos de forma eficiente y en tiempo real**, integrando tecnología, análisis y estrategia empresarial."
      ],
      "metadata": {
        "id": "OM9IDLGOeaAr"
      }
    }
  ]
}