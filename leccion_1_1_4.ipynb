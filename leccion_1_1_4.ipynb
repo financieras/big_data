{
  "nbformat": 4,
  "nbformat_minor": 0,
  "metadata": {
    "colab": {
      "provenance": [],
      "authorship_tag": "ABX9TyORRJpcamdGYe03pxrQII68",
      "include_colab_link": true
    },
    "kernelspec": {
      "name": "python3",
      "display_name": "Python 3"
    },
    "language_info": {
      "name": "python"
    }
  },
  "cells": [
    {
      "cell_type": "markdown",
      "metadata": {
        "id": "view-in-github",
        "colab_type": "text"
      },
      "source": [
        "<a href=\"https://colab.research.google.com/github/financieras/big_data/blob/main/leccion_1_1_4.ipynb\" target=\"_parent\"><img src=\"https://colab.research.google.com/assets/colab-badge.svg\" alt=\"Open In Colab\"/></a>"
      ]
    },
    {
      "cell_type": "markdown",
      "source": [
        "# Lección 1.1.4: Ciclo de vida de los datos en una organización\n",
        "\n",
        "## 1. ¿Qué es el ciclo de vida de los datos?\n",
        "\n",
        "El **ciclo de vida de los datos** describe las etapas que atraviesan los datos desde que se generan hasta que se archivan o eliminan. Gestionarlo bien es clave para que una organización sea **data-driven** y maximice el **valor** de sus datos.\n",
        "\n",
        "> **Clave:** Cada etapa debe estar diseñada para garantizar calidad, accesibilidad y seguridad, alineándose con los objetivos del negocio.\n",
        "\n",
        "## 2. Etapas del ciclo de vida de los datos\n",
        "\n",
        "| Etapa | Descripción | Ejemplo práctico |\n",
        "|-------|-------------|------------------|\n",
        "| **Generación** | Creación o captura de datos desde fuentes internas o externas. | Un cliente compra en una web (transacción) o un sensor IoT registra temperatura. |\n",
        "| **Ingesta** | Recolección y transferencia de datos al sistema de la organización. | Fivetran extrae datos de una API de ventas y los envía a Snowflake. |\n",
        "| **Almacenamiento** | Organización de datos en sistemas como Data Lakes o Warehouses. | Datos estructurados en BigQuery; no estructurados en S3. |\n",
        "| **Procesamiento** | Limpieza, transformación y enriquecimiento para análisis. | dbt transforma datos crudos en tablas optimizadas para KPIs. |\n",
        "| **Análisis** | Extracción de insights mediante reportes, dashboards o modelos. | Un analista crea un dashboard en Power BI para ventas mensuales. |\n",
        "| **Uso/Activación** | Aplicación de insights en decisiones o productos. | Un modelo de ML predice churn y activa emails personalizados. |\n",
        "| **Archivado/Eliminación** | Retención de datos históricos o eliminación por cumplimiento legal. | Datos de clientes archivados tras 7 años (GDPR). |\n",
        "\n",
        "> **Buena idea:** Documentar cada etapa para garantizar trazabilidad y cumplir normativas como GDPR.\n",
        "\n",
        "## 3. Roles en el ciclo de vida\n",
        "\n",
        "Cada rol de datos contribuye en distintas etapas:\n",
        "\n",
        "- **Data Engineer:** Gestiona **generación, ingesta, almacenamiento y procesamiento**. Construye pipelines robustos y escalables.\n",
        "- **Data Analyst:** Enfocado en **análisis y uso**. Crea reportes y dashboards para decisiones inmediatas.\n",
        "- **Data Scientist:** Participa en **procesamiento y análisis**. Desarrolla modelos predictivos para activar insights.\n",
        "\n",
        "**Ejemplo:** En una tienda online:\n",
        "1. **Ingeniero** crea un pipeline que ingesta datos de compras en tiempo real.\n",
        "2. **Analista** identifica un aumento de carritos abandonados en móviles.\n",
        "3. **Científico** entrena un modelo para predecir abandonos y recomendar descuentos.\n",
        "\n",
        "**Resultado:** +15% en conversiones tras implementar descuentos personalizados.\n",
        "\n",
        "## 4. Retos clave en el ciclo\n",
        "\n",
        "- **Calidad:** Datos incompletos o erróneos (e.g., sensores IoT defectuosos) afectan el análisis.\n",
        "- **Escalabilidad:** Procesar terabytes en tiempo real requiere herramientas como Spark o Flink.\n",
        "- **Seguridad:** Proteger datos sensibles (e.g., cumplir GDPR) es obligatorio.\n",
        "- **Gobernanza:** Definir quién accede a qué datos y cómo se usan.\n",
        "\n",
        "> **Buena idea:** Usar herramientas como Great Expectations para validar calidad y Collibra para gobernanza.\n",
        "\n",
        "## 5. Ejemplo integrado: Ciclo en una empresa de logística\n",
        "\n",
        "**Contexto:** Una empresa de envíos quiere optimizar rutas.\n",
        "\n",
        "1. **Generación:** Sensores GPS en camiones registran ubicaciones.\n",
        "2. **Ingesta:** Kafka captura datos en tiempo real.\n",
        "3. **Almacenamiento:** Datos crudos en un Data Lake (Delta Lake).\n",
        "4. **Procesamiento:** Spark limpia y agrega datos de tráfico y entregas.\n",
        "5. **Análisis:** Un científico crea un modelo de optimización de rutas.\n",
        "6. **Uso:** El modelo sugiere rutas más cortas a conductores.\n",
        "7. **Archivado:** Datos históricos se guardan para auditorías.\n",
        "\n",
        "**Impacto:** -20% en costes de combustible, +10% en entregas a tiempo.\n",
        "\n",
        "## 6. Mejores prácticas\n",
        "\n",
        "- **Automatización:** Usa herramientas como Airflow para orquestar pipelines.\n",
        "- **Calidad desde el inicio:** Implementa validaciones en la ingesta.\n",
        "- **Documentación:** Registra metadatos para saber qué datos existen y de dónde vienen.\n",
        "- **Cumplimiento legal:** Asegura eliminación segura de datos obsoletos.\n",
        "\n",
        "> **Tip:** Un ciclo bien gestionado reduce costes y acelera la toma de decisiones.\n",
        "\n",
        "## 7. Resumen\n",
        "\n",
        "El ciclo de vida de los datos es un proceso continuo que va desde la **generación** hasta el **archivado**. Cada etapa requiere colaboración entre **ingenieros, analistas y científicos** para transformar datos crudos en **valor empresarial**. Con herramientas modernas y buenas prácticas, las organizaciones pueden optimizar este ciclo para ser más ágiles y competitivas.\n",
        "\n",
        "## Referencias\n",
        "\n",
        "### Vídeos\n",
        "- [What is a Data Lifecycle?](https://youtu.be/5R1XohiM6CU?si=8z3K9j5pLqW7xY2Z)\n",
        "- [Data Engineering in 2025: Key Concepts](https://youtu.be/9kJ2x3yV0gM?si=4kD7pH8qT2z1xW9Y)\n",
        "\n",
        "### Lecturas\n",
        "- [The Data Lifecycle Explained – IBM](https://www.ibm.com/topics/data-lifecycle-management)\n",
        "- [Modern Data Stack in 2025 – Databricks](https://www.databricks.com/glossary/modern-data-stack)"
      ],
      "metadata": {
        "id": "6cOmw-n7p15k"
      }
    }
  ]
}