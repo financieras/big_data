{
  "nbformat": 4,
  "nbformat_minor": 0,
  "metadata": {
    "colab": {
      "provenance": [],
      "authorship_tag": "ABX9TyPuW9F5lzMv7b3GUET5+uql",
      "include_colab_link": true
    },
    "kernelspec": {
      "name": "python3",
      "display_name": "Python 3"
    },
    "language_info": {
      "name": "python"
    }
  },
  "cells": [
    {
      "cell_type": "markdown",
      "metadata": {
        "id": "view-in-github",
        "colab_type": "text"
      },
      "source": [
        "<a href=\"https://colab.research.google.com/github/financieras/big_data/blob/main/retos/reto_012.ipynb\" target=\"_parent\"><img src=\"https://colab.research.google.com/assets/colab-badge.svg\" alt=\"Open In Colab\"/></a>"
      ]
    },
    {
      "cell_type": "markdown",
      "source": [
        "# **Reto 12. Análisis de características médicas**\n",
        "- Carga el dataset \"Breast Cancer\" desde scikit-learn\n",
        "- Calcula estadísticas descriptivas por diagnóstico: `df.groupby('diagnosis').mean()`\n",
        "- Identifica las 5 características con mayor diferencia entre malignos y benignos\n",
        "- Crea histograma de 'mean radius' separado por diagnóstico usando `hue='diagnosis'`"
      ],
      "metadata": {
        "id": "ZyoZjA0Afgb3"
      }
    }
  ]
}