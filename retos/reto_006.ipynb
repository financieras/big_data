{
  "nbformat": 4,
  "nbformat_minor": 0,
  "metadata": {
    "colab": {
      "provenance": [],
      "authorship_tag": "ABX9TyM9bRZeO0Fn5C/jIZU+uBC2",
      "include_colab_link": true
    },
    "kernelspec": {
      "name": "python3",
      "display_name": "Python 3"
    },
    "language_info": {
      "name": "python"
    }
  },
  "cells": [
    {
      "cell_type": "markdown",
      "metadata": {
        "id": "view-in-github",
        "colab_type": "text"
      },
      "source": [
        "<a href=\"https://colab.research.google.com/github/financieras/big_data/blob/main/retos/reto_006.ipynb\" target=\"_parent\"><img src=\"https://colab.research.google.com/assets/colab-badge.svg\" alt=\"Open In Colab\"/></a>"
      ]
    },
    {
      "cell_type": "markdown",
      "source": [
        "# **Reto 6. Dataset \"Iris\" desde Seaborn**\n",
        "- Carga Iris desde Seaborn: `sns.load_dataset('iris')`\n",
        "- Explora estructura con `.shape`, `.info()`, `.columns`\n",
        "- Verifica valores nulos\n",
        "- Calcula número de observaciones por especie con `.value_counts()`"
      ],
      "metadata": {
        "id": "xg1F3y02IZP2"
      }
    },
    {
      "cell_type": "markdown",
      "source": [
        "# **Resolución del Reto 6**\n",
        "\n",
        "## **Paso 1: Cargar dataset Iris desde Seaborn**\n",
        "El dataset Iris contiene **150 muestras** de flores con **4 características numéricas** (medidas de sépalos y pétalos) clasificadas en **3 especies** igualmente distribuidas:\n",
        "- **setosa**\n",
        "- **versicolor** y\n",
        "- **virginica** (50 muestras cada una)\n",
        "\n",
        "Es el dataset clásico para problemas de clasificación en machine learning."
      ],
      "metadata": {
        "id": "l0uNQveMIqVT"
      }
    },
    {
      "cell_type": "code",
      "source": [
        "import pandas as pd\n",
        "import numpy as np\n",
        "import seaborn as sns\n",
        "import matplotlib.pyplot as plt\n",
        "\n",
        "print(\"🌸 Paso 1: Cargando dataset Iris desde Seaborn...\")\n",
        "df = sns.load_dataset('iris')\n",
        "print(\"✅ Dataset Iris cargado correctamente desde Seaborn\")"
      ],
      "metadata": {
        "colab": {
          "base_uri": "https://localhost:8080/"
        },
        "id": "9PIjy4UbItRK",
        "outputId": "d57a20cd-0eca-401e-9f76-a64117a70183"
      },
      "execution_count": 1,
      "outputs": [
        {
          "output_type": "stream",
          "name": "stdout",
          "text": [
            "🌸 Paso 1: Cargando dataset Iris desde Seaborn...\n",
            "✅ Dataset Iris cargado correctamente desde Seaborn\n"
          ]
        }
      ]
    },
    {
      "cell_type": "markdown",
      "source": [
        "## **Paso 2: Explorar estructura del dataset**\n",
        "Conocer la forma del dataset y sus columnas es esencial para entender qué tipo de información contiene."
      ],
      "metadata": {
        "id": "Vueql1X7J1rH"
      }
    },
    {
      "cell_type": "code",
      "source": [
        "print(\"📏 Paso 2: Explorando estructura del dataset...\")\n",
        "print(f\"Dimensiones del dataset: {df.shape}\")\n",
        "print(f\"- Filas (observaciones): {df.shape[0]}\")\n",
        "print(f\"- Columnas (características): {df.shape[1]}\")\n",
        "\n",
        "print(\"\\n🏷️ Columnas disponibles:\")\n",
        "for i, columna in enumerate(df.columns, 1):\n",
        "    print(f\"   {i}. {columna}\")\n",
        "\n",
        "print(\"\\n👀 Primeras 5 filas del dataset:\")\n",
        "df.head()"
      ],
      "metadata": {
        "colab": {
          "base_uri": "https://localhost:8080/",
          "height": 432
        },
        "id": "2CyJs10AJ4zt",
        "outputId": "7a45d497-101b-4bb2-bc4e-edf9f403f7e3"
      },
      "execution_count": 13,
      "outputs": [
        {
          "output_type": "stream",
          "name": "stdout",
          "text": [
            "📏 Paso 2: Explorando estructura del dataset...\n",
            "Dimensiones del dataset: (150, 5)\n",
            "- Filas (observaciones): 150\n",
            "- Columnas (características): 5\n",
            "\n",
            "🏷️ Columnas disponibles:\n",
            "   1. sepal_length\n",
            "   2. sepal_width\n",
            "   3. petal_length\n",
            "   4. petal_width\n",
            "   5. species\n",
            "\n",
            "👀 Primeras 5 filas del dataset:\n"
          ]
        },
        {
          "output_type": "execute_result",
          "data": {
            "text/plain": [
              "   sepal_length  sepal_width  petal_length  petal_width species\n",
              "0           5.1          3.5           1.4          0.2  setosa\n",
              "1           4.9          3.0           1.4          0.2  setosa\n",
              "2           4.7          3.2           1.3          0.2  setosa\n",
              "3           4.6          3.1           1.5          0.2  setosa\n",
              "4           5.0          3.6           1.4          0.2  setosa"
            ],
            "text/html": [
              "\n",
              "  <div id=\"df-5fdde7d0-f92b-4ba8-837c-ea5d80019609\" class=\"colab-df-container\">\n",
              "    <div>\n",
              "<style scoped>\n",
              "    .dataframe tbody tr th:only-of-type {\n",
              "        vertical-align: middle;\n",
              "    }\n",
              "\n",
              "    .dataframe tbody tr th {\n",
              "        vertical-align: top;\n",
              "    }\n",
              "\n",
              "    .dataframe thead th {\n",
              "        text-align: right;\n",
              "    }\n",
              "</style>\n",
              "<table border=\"1\" class=\"dataframe\">\n",
              "  <thead>\n",
              "    <tr style=\"text-align: right;\">\n",
              "      <th></th>\n",
              "      <th>sepal_length</th>\n",
              "      <th>sepal_width</th>\n",
              "      <th>petal_length</th>\n",
              "      <th>petal_width</th>\n",
              "      <th>species</th>\n",
              "    </tr>\n",
              "  </thead>\n",
              "  <tbody>\n",
              "    <tr>\n",
              "      <th>0</th>\n",
              "      <td>5.1</td>\n",
              "      <td>3.5</td>\n",
              "      <td>1.4</td>\n",
              "      <td>0.2</td>\n",
              "      <td>setosa</td>\n",
              "    </tr>\n",
              "    <tr>\n",
              "      <th>1</th>\n",
              "      <td>4.9</td>\n",
              "      <td>3.0</td>\n",
              "      <td>1.4</td>\n",
              "      <td>0.2</td>\n",
              "      <td>setosa</td>\n",
              "    </tr>\n",
              "    <tr>\n",
              "      <th>2</th>\n",
              "      <td>4.7</td>\n",
              "      <td>3.2</td>\n",
              "      <td>1.3</td>\n",
              "      <td>0.2</td>\n",
              "      <td>setosa</td>\n",
              "    </tr>\n",
              "    <tr>\n",
              "      <th>3</th>\n",
              "      <td>4.6</td>\n",
              "      <td>3.1</td>\n",
              "      <td>1.5</td>\n",
              "      <td>0.2</td>\n",
              "      <td>setosa</td>\n",
              "    </tr>\n",
              "    <tr>\n",
              "      <th>4</th>\n",
              "      <td>5.0</td>\n",
              "      <td>3.6</td>\n",
              "      <td>1.4</td>\n",
              "      <td>0.2</td>\n",
              "      <td>setosa</td>\n",
              "    </tr>\n",
              "  </tbody>\n",
              "</table>\n",
              "</div>\n",
              "    <div class=\"colab-df-buttons\">\n",
              "\n",
              "  <div class=\"colab-df-container\">\n",
              "    <button class=\"colab-df-convert\" onclick=\"convertToInteractive('df-5fdde7d0-f92b-4ba8-837c-ea5d80019609')\"\n",
              "            title=\"Convert this dataframe to an interactive table.\"\n",
              "            style=\"display:none;\">\n",
              "\n",
              "  <svg xmlns=\"http://www.w3.org/2000/svg\" height=\"24px\" viewBox=\"0 -960 960 960\">\n",
              "    <path d=\"M120-120v-720h720v720H120Zm60-500h600v-160H180v160Zm220 220h160v-160H400v160Zm0 220h160v-160H400v160ZM180-400h160v-160H180v160Zm440 0h160v-160H620v160ZM180-180h160v-160H180v160Zm440 0h160v-160H620v160Z\"/>\n",
              "  </svg>\n",
              "    </button>\n",
              "\n",
              "  <style>\n",
              "    .colab-df-container {\n",
              "      display:flex;\n",
              "      gap: 12px;\n",
              "    }\n",
              "\n",
              "    .colab-df-convert {\n",
              "      background-color: #E8F0FE;\n",
              "      border: none;\n",
              "      border-radius: 50%;\n",
              "      cursor: pointer;\n",
              "      display: none;\n",
              "      fill: #1967D2;\n",
              "      height: 32px;\n",
              "      padding: 0 0 0 0;\n",
              "      width: 32px;\n",
              "    }\n",
              "\n",
              "    .colab-df-convert:hover {\n",
              "      background-color: #E2EBFA;\n",
              "      box-shadow: 0px 1px 2px rgba(60, 64, 67, 0.3), 0px 1px 3px 1px rgba(60, 64, 67, 0.15);\n",
              "      fill: #174EA6;\n",
              "    }\n",
              "\n",
              "    .colab-df-buttons div {\n",
              "      margin-bottom: 4px;\n",
              "    }\n",
              "\n",
              "    [theme=dark] .colab-df-convert {\n",
              "      background-color: #3B4455;\n",
              "      fill: #D2E3FC;\n",
              "    }\n",
              "\n",
              "    [theme=dark] .colab-df-convert:hover {\n",
              "      background-color: #434B5C;\n",
              "      box-shadow: 0px 1px 3px 1px rgba(0, 0, 0, 0.15);\n",
              "      filter: drop-shadow(0px 1px 2px rgba(0, 0, 0, 0.3));\n",
              "      fill: #FFFFFF;\n",
              "    }\n",
              "  </style>\n",
              "\n",
              "    <script>\n",
              "      const buttonEl =\n",
              "        document.querySelector('#df-5fdde7d0-f92b-4ba8-837c-ea5d80019609 button.colab-df-convert');\n",
              "      buttonEl.style.display =\n",
              "        google.colab.kernel.accessAllowed ? 'block' : 'none';\n",
              "\n",
              "      async function convertToInteractive(key) {\n",
              "        const element = document.querySelector('#df-5fdde7d0-f92b-4ba8-837c-ea5d80019609');\n",
              "        const dataTable =\n",
              "          await google.colab.kernel.invokeFunction('convertToInteractive',\n",
              "                                                    [key], {});\n",
              "        if (!dataTable) return;\n",
              "\n",
              "        const docLinkHtml = 'Like what you see? Visit the ' +\n",
              "          '<a target=\"_blank\" href=https://colab.research.google.com/notebooks/data_table.ipynb>data table notebook</a>'\n",
              "          + ' to learn more about interactive tables.';\n",
              "        element.innerHTML = '';\n",
              "        dataTable['output_type'] = 'display_data';\n",
              "        await google.colab.output.renderOutput(dataTable, element);\n",
              "        const docLink = document.createElement('div');\n",
              "        docLink.innerHTML = docLinkHtml;\n",
              "        element.appendChild(docLink);\n",
              "      }\n",
              "    </script>\n",
              "  </div>\n",
              "\n",
              "\n",
              "    <div id=\"df-5b5bc58d-662f-45ff-a962-1ba3a0ed303e\">\n",
              "      <button class=\"colab-df-quickchart\" onclick=\"quickchart('df-5b5bc58d-662f-45ff-a962-1ba3a0ed303e')\"\n",
              "                title=\"Suggest charts\"\n",
              "                style=\"display:none;\">\n",
              "\n",
              "<svg xmlns=\"http://www.w3.org/2000/svg\" height=\"24px\"viewBox=\"0 0 24 24\"\n",
              "     width=\"24px\">\n",
              "    <g>\n",
              "        <path d=\"M19 3H5c-1.1 0-2 .9-2 2v14c0 1.1.9 2 2 2h14c1.1 0 2-.9 2-2V5c0-1.1-.9-2-2-2zM9 17H7v-7h2v7zm4 0h-2V7h2v10zm4 0h-2v-4h2v4z\"/>\n",
              "    </g>\n",
              "</svg>\n",
              "      </button>\n",
              "\n",
              "<style>\n",
              "  .colab-df-quickchart {\n",
              "      --bg-color: #E8F0FE;\n",
              "      --fill-color: #1967D2;\n",
              "      --hover-bg-color: #E2EBFA;\n",
              "      --hover-fill-color: #174EA6;\n",
              "      --disabled-fill-color: #AAA;\n",
              "      --disabled-bg-color: #DDD;\n",
              "  }\n",
              "\n",
              "  [theme=dark] .colab-df-quickchart {\n",
              "      --bg-color: #3B4455;\n",
              "      --fill-color: #D2E3FC;\n",
              "      --hover-bg-color: #434B5C;\n",
              "      --hover-fill-color: #FFFFFF;\n",
              "      --disabled-bg-color: #3B4455;\n",
              "      --disabled-fill-color: #666;\n",
              "  }\n",
              "\n",
              "  .colab-df-quickchart {\n",
              "    background-color: var(--bg-color);\n",
              "    border: none;\n",
              "    border-radius: 50%;\n",
              "    cursor: pointer;\n",
              "    display: none;\n",
              "    fill: var(--fill-color);\n",
              "    height: 32px;\n",
              "    padding: 0;\n",
              "    width: 32px;\n",
              "  }\n",
              "\n",
              "  .colab-df-quickchart:hover {\n",
              "    background-color: var(--hover-bg-color);\n",
              "    box-shadow: 0 1px 2px rgba(60, 64, 67, 0.3), 0 1px 3px 1px rgba(60, 64, 67, 0.15);\n",
              "    fill: var(--button-hover-fill-color);\n",
              "  }\n",
              "\n",
              "  .colab-df-quickchart-complete:disabled,\n",
              "  .colab-df-quickchart-complete:disabled:hover {\n",
              "    background-color: var(--disabled-bg-color);\n",
              "    fill: var(--disabled-fill-color);\n",
              "    box-shadow: none;\n",
              "  }\n",
              "\n",
              "  .colab-df-spinner {\n",
              "    border: 2px solid var(--fill-color);\n",
              "    border-color: transparent;\n",
              "    border-bottom-color: var(--fill-color);\n",
              "    animation:\n",
              "      spin 1s steps(1) infinite;\n",
              "  }\n",
              "\n",
              "  @keyframes spin {\n",
              "    0% {\n",
              "      border-color: transparent;\n",
              "      border-bottom-color: var(--fill-color);\n",
              "      border-left-color: var(--fill-color);\n",
              "    }\n",
              "    20% {\n",
              "      border-color: transparent;\n",
              "      border-left-color: var(--fill-color);\n",
              "      border-top-color: var(--fill-color);\n",
              "    }\n",
              "    30% {\n",
              "      border-color: transparent;\n",
              "      border-left-color: var(--fill-color);\n",
              "      border-top-color: var(--fill-color);\n",
              "      border-right-color: var(--fill-color);\n",
              "    }\n",
              "    40% {\n",
              "      border-color: transparent;\n",
              "      border-right-color: var(--fill-color);\n",
              "      border-top-color: var(--fill-color);\n",
              "    }\n",
              "    60% {\n",
              "      border-color: transparent;\n",
              "      border-right-color: var(--fill-color);\n",
              "    }\n",
              "    80% {\n",
              "      border-color: transparent;\n",
              "      border-right-color: var(--fill-color);\n",
              "      border-bottom-color: var(--fill-color);\n",
              "    }\n",
              "    90% {\n",
              "      border-color: transparent;\n",
              "      border-bottom-color: var(--fill-color);\n",
              "    }\n",
              "  }\n",
              "</style>\n",
              "\n",
              "      <script>\n",
              "        async function quickchart(key) {\n",
              "          const quickchartButtonEl =\n",
              "            document.querySelector('#' + key + ' button');\n",
              "          quickchartButtonEl.disabled = true;  // To prevent multiple clicks.\n",
              "          quickchartButtonEl.classList.add('colab-df-spinner');\n",
              "          try {\n",
              "            const charts = await google.colab.kernel.invokeFunction(\n",
              "                'suggestCharts', [key], {});\n",
              "          } catch (error) {\n",
              "            console.error('Error during call to suggestCharts:', error);\n",
              "          }\n",
              "          quickchartButtonEl.classList.remove('colab-df-spinner');\n",
              "          quickchartButtonEl.classList.add('colab-df-quickchart-complete');\n",
              "        }\n",
              "        (() => {\n",
              "          let quickchartButtonEl =\n",
              "            document.querySelector('#df-5b5bc58d-662f-45ff-a962-1ba3a0ed303e button');\n",
              "          quickchartButtonEl.style.display =\n",
              "            google.colab.kernel.accessAllowed ? 'block' : 'none';\n",
              "        })();\n",
              "      </script>\n",
              "    </div>\n",
              "\n",
              "    </div>\n",
              "  </div>\n"
            ],
            "application/vnd.google.colaboratory.intrinsic+json": {
              "type": "dataframe",
              "variable_name": "df",
              "summary": "{\n  \"name\": \"df\",\n  \"rows\": 150,\n  \"fields\": [\n    {\n      \"column\": \"sepal_length\",\n      \"properties\": {\n        \"dtype\": \"number\",\n        \"std\": 0.8280661279778629,\n        \"min\": 4.3,\n        \"max\": 7.9,\n        \"num_unique_values\": 35,\n        \"samples\": [\n          6.2,\n          4.5,\n          5.6\n        ],\n        \"semantic_type\": \"\",\n        \"description\": \"\"\n      }\n    },\n    {\n      \"column\": \"sepal_width\",\n      \"properties\": {\n        \"dtype\": \"number\",\n        \"std\": 0.435866284936698,\n        \"min\": 2.0,\n        \"max\": 4.4,\n        \"num_unique_values\": 23,\n        \"samples\": [\n          2.3,\n          4.0,\n          3.5\n        ],\n        \"semantic_type\": \"\",\n        \"description\": \"\"\n      }\n    },\n    {\n      \"column\": \"petal_length\",\n      \"properties\": {\n        \"dtype\": \"number\",\n        \"std\": 1.7652982332594667,\n        \"min\": 1.0,\n        \"max\": 6.9,\n        \"num_unique_values\": 43,\n        \"samples\": [\n          6.7,\n          3.8,\n          3.7\n        ],\n        \"semantic_type\": \"\",\n        \"description\": \"\"\n      }\n    },\n    {\n      \"column\": \"petal_width\",\n      \"properties\": {\n        \"dtype\": \"number\",\n        \"std\": 0.7622376689603465,\n        \"min\": 0.1,\n        \"max\": 2.5,\n        \"num_unique_values\": 22,\n        \"samples\": [\n          0.2,\n          1.2,\n          1.3\n        ],\n        \"semantic_type\": \"\",\n        \"description\": \"\"\n      }\n    },\n    {\n      \"column\": \"species\",\n      \"properties\": {\n        \"dtype\": \"category\",\n        \"num_unique_values\": 3,\n        \"samples\": [\n          \"setosa\",\n          \"versicolor\",\n          \"virginica\"\n        ],\n        \"semantic_type\": \"\",\n        \"description\": \"\"\n      }\n    }\n  ]\n}"
            }
          },
          "metadata": {},
          "execution_count": 13
        }
      ]
    },
    {
      "cell_type": "code",
      "source": [
        "# mostrando directamente el contenido de 'df.columns'\n",
        "df.columns"
      ],
      "metadata": {
        "id": "lgU7KTc1OigC",
        "outputId": "0ba499f9-cb11-4780-890a-a0d2639adb67",
        "colab": {
          "base_uri": "https://localhost:8080/"
        }
      },
      "execution_count": 6,
      "outputs": [
        {
          "output_type": "execute_result",
          "data": {
            "text/plain": [
              "Index(['sepal_length', 'sepal_width', 'petal_length', 'petal_width',\n",
              "       'species'],\n",
              "      dtype='object')"
            ]
          },
          "metadata": {},
          "execution_count": 6
        }
      ]
    },
    {
      "cell_type": "markdown",
      "source": [
        "## **Paso 3: Información detallada del dataset**"
      ],
      "metadata": {
        "id": "poynTgeOKGuA"
      }
    },
    {
      "cell_type": "code",
      "source": [
        "print(\"📋 Paso 3: Información detallada del dataset...\")\n",
        "print(\"\\n🔍 Información general con .info():\")\n",
        "print(df.info())\n",
        "\n",
        "print(\"\\n📊 Resumen de tipos de datos:\")\n",
        "print(f\"- Columnas numéricas: {len(df.select_dtypes(include=[np.number]).columns)}\")\n",
        "print(f\"- Columnas categóricas: {len(df.select_dtypes(include=['object']).columns)}\")\n",
        "\n",
        "print(\"\\n🏷️ Nombres de columnas con .columns:\")\n",
        "print(f\"Columnas: {list(df.columns)}\")"
      ],
      "metadata": {
        "colab": {
          "base_uri": "https://localhost:8080/"
        },
        "id": "ih0VAfP5KHq_",
        "outputId": "5139a857-4ada-455f-f841-00d6be605438"
      },
      "execution_count": null,
      "outputs": [
        {
          "output_type": "stream",
          "name": "stdout",
          "text": [
            "📋 Paso 3: Información detallada del dataset...\n",
            "\n",
            "🔍 Información general con .info():\n",
            "<class 'pandas.core.frame.DataFrame'>\n",
            "RangeIndex: 150 entries, 0 to 149\n",
            "Data columns (total 5 columns):\n",
            " #   Column        Non-Null Count  Dtype  \n",
            "---  ------        --------------  -----  \n",
            " 0   sepal_length  150 non-null    float64\n",
            " 1   sepal_width   150 non-null    float64\n",
            " 2   petal_length  150 non-null    float64\n",
            " 3   petal_width   150 non-null    float64\n",
            " 4   species       150 non-null    object \n",
            "dtypes: float64(4), object(1)\n",
            "memory usage: 6.0+ KB\n",
            "None\n",
            "\n",
            "📊 Resumen de tipos de datos:\n",
            "- Columnas numéricas: 4\n",
            "- Columnas categóricas: 1\n",
            "\n",
            "🏷️ Nombres de columnas con .columns:\n",
            "Columnas: ['sepal_length', 'sepal_width', 'petal_length', 'petal_width', 'species']\n"
          ]
        }
      ]
    },
    {
      "cell_type": "markdown",
      "source": [
        "## **Paso 4: Verificar valores nulos**\n",
        "Aunque el dataset Iris es limpio por diseño, es buena práctica comprobar siempre la integridad de los datos."
      ],
      "metadata": {
        "id": "eBiNw59qKL-P"
      }
    },
    {
      "cell_type": "code",
      "source": [
        "print(\"❓ Paso 4: Verificando valores nulos...\")\n",
        "valores_nulos = df.isnull().sum()\n",
        "print(\"Valores nulos por columna:\")\n",
        "print(valores_nulos)\n",
        "\n",
        "total_nulos = valores_nulos.sum()\n",
        "print(f\"\\n📈 Total de valores nulos en el dataset: {total_nulos}\")\n",
        "print(f\"📊 Porcentaje de valores nulos: {(total_nulos / (df.shape[0] * df.shape[1]) * 100):.2f}%\")\n",
        "\n",
        "# Verificar si hay columnas con valores nulos\n",
        "columnas_con_nulos = valores_nulos[valores_nulos > 0]\n",
        "if total_nulos == 0:\n",
        "    print(\"\\n✅ Excelente! No hay valores nulos.\")\n",
        "else:\n",
        "    print(f\"\\n🚨 Columnas con valores nulos: {len(columnas_con_nulos)}\")\n",
        "    for columna, nulos in columnas_con_nulos.items():\n",
        "        print(f\"   - {columna}: {nulos} nulos ({nulos/df.shape[0]*100:.1f}%)\")"
      ],
      "metadata": {
        "colab": {
          "base_uri": "https://localhost:8080/"
        },
        "id": "fhTq5dLPKPp2",
        "outputId": "e0916bf9-c288-4cf5-bcff-0b1ca352b95e"
      },
      "execution_count": 19,
      "outputs": [
        {
          "output_type": "stream",
          "name": "stdout",
          "text": [
            "❓ Paso 4: Verificando valores nulos...\n",
            "Valores nulos por columna:\n",
            "sepal_length    0\n",
            "sepal_width     0\n",
            "petal_length    0\n",
            "petal_width     0\n",
            "species         0\n",
            "dtype: int64\n",
            "\n",
            "📈 Total de valores nulos en el dataset: 0\n",
            "📊 Porcentaje de valores nulos: 0.00%\n",
            "\n",
            "✅ Excelente! No hay valores nulos.\n"
          ]
        }
      ]
    },
    {
      "cell_type": "markdown",
      "source": [
        "## **Paso 5: Número de observaciones por especie**\n",
        "Una de las variables clave en este dataset es `species`.  \n",
        "Saber cuántas flores hay de cada tipo nos da una idea de balance en los datos."
      ],
      "metadata": {
        "id": "d5q0bSoKKa1A"
      }
    },
    {
      "cell_type": "code",
      "source": [
        "print(\"🌺 Paso 5: Calculando número de observaciones por especie...\")\n",
        "\n",
        "conteo_especies = df['species'].value_counts()\n",
        "print(\"\\n📊 Número de observaciones por especie:\")\n",
        "print(conteo_especies)\n",
        "\n",
        "print(\"\\n📈 Distribución porcentual:\")\n",
        "porcentaje_especies = df['species'].value_counts(normalize=True) * 100\n",
        "for especie, count in conteo_especies.items():\n",
        "    porcentaje = porcentaje_especies[especie]\n",
        "    print(f\"   - {especie}: {count} observaciones ({porcentaje:.1f}%)\")\n",
        "\n",
        "print(f\"\\n🎯 Total de observaciones: {conteo_especies.sum()}\")\n",
        "print(f\"🔢 Número de especies diferentes: {len(conteo_especies)}\")"
      ],
      "metadata": {
        "colab": {
          "base_uri": "https://localhost:8080/"
        },
        "id": "k9tmpHjSKeEJ",
        "outputId": "f8feca9c-ab61-4afb-f979-38ac96e9b3fc"
      },
      "execution_count": null,
      "outputs": [
        {
          "output_type": "stream",
          "name": "stdout",
          "text": [
            "🌺 Paso 5: Calculando número de observaciones por especie...\n",
            "\n",
            "📊 Número de observaciones por especie:\n",
            "species\n",
            "setosa        50\n",
            "versicolor    50\n",
            "virginica     50\n",
            "Name: count, dtype: int64\n",
            "\n",
            "📈 Distribución porcentual:\n",
            "   - setosa: 50 observaciones (33.3%)\n",
            "   - versicolor: 50 observaciones (33.3%)\n",
            "   - virginica: 50 observaciones (33.3%)\n",
            "\n",
            "🎯 Total de observaciones: 150\n",
            "🔢 Número de especies diferentes: 3\n"
          ]
        }
      ]
    },
    {
      "cell_type": "markdown",
      "source": [
        "## **Paso 6: Visualización de la distribución por especie**"
      ],
      "metadata": {
        "id": "5mTjKRmtKh9i"
      }
    },
    {
      "cell_type": "code",
      "source": [
        "print(\"📊 Paso 6: Visualizando distribución por especie...\")\n",
        "\n",
        "plt.figure(figsize=(10, 6))\n",
        "\n",
        "# Gráfico de barras para la distribución de especies\n",
        "plt.subplot(1, 2, 1)\n",
        "conteo_especies.plot(kind='bar', color=['#FF6B6B', '#4ECDC4', '#45B7D1'])\n",
        "plt.title('Distribución de Especies de Iris', fontsize=14, fontweight='bold')\n",
        "plt.xlabel('Especie', fontweight='bold')\n",
        "plt.ylabel('Número de Observaciones', fontweight='bold')\n",
        "plt.xticks(rotation=45)\n",
        "\n",
        "# Gráfico de pie para la distribución porcentual\n",
        "plt.subplot(1, 2, 2)\n",
        "colors = ['#FF6B6B', '#4ECDC4', '#45B7D1']\n",
        "plt.pie(conteo_especies, labels=conteo_especies.index, autopct='%1.1f%%',\n",
        "        colors=colors, startangle=90)\n",
        "plt.title('Distribución Porcentual\\nde Especies', fontsize=14, fontweight='bold')\n",
        "\n",
        "plt.tight_layout()\n",
        "plt.show()"
      ],
      "metadata": {
        "colab": {
          "base_uri": "https://localhost:8080/",
          "height": 637
        },
        "id": "Lx7I6f4LKl6N",
        "outputId": "c330c5e8-7732-4c70-df4f-63212a67b483"
      },
      "execution_count": null,
      "outputs": [
        {
          "output_type": "stream",
          "name": "stdout",
          "text": [
            "📊 Paso 6: Visualizando distribución por especie...\n"
          ]
        },
        {
          "output_type": "display_data",
          "data": {
            "text/plain": [
              "<Figure size 1000x600 with 2 Axes>"
            ],
            "image/png": "[encoded data removed]"
          },
          "metadata": {}
        }
      ]
    },
    {
      "cell_type": "markdown",
      "source": [
        "## **Paso 7: Resumen ejecutivo del análisis**"
      ],
      "metadata": {
        "id": "-vX47QKgKp5k"
      }
    },
    {
      "cell_type": "code",
      "source": [
        "print(\"📈 Paso 7: Resumen ejecutivo del análisis exploratorio\")\n",
        "\n",
        "print(\"\\n\" + \"=\"*50)\n",
        "print(\"         RESUMEN EJECUTIVO - DATASET IRIS\")\n",
        "print(\"=\"*50)\n",
        "\n",
        "print(f\"📊 DIMENSIONES: {df.shape[0]} observaciones × {df.shape[1]} características\")\n",
        "\n",
        "print(f\"🔍 TIPOS DE DATOS:\")\n",
        "print(f\"   - Numéricas: {len(df.select_dtypes(include=[np.number]).columns)} columnas\")\n",
        "print(f\"   - Categóricas: {len(df.select_dtypes(include=['object']).columns)} columna\")\n",
        "\n",
        "nulos_totales = df.isnull().sum().sum()\n",
        "print(f\"❓ VALORES NULOS: {nulos_totales} ({nulos_totales/(df.shape[0]*df.shape[1])*100:.1f}% del dataset)\")\n",
        "\n",
        "# Principales hallazgos\n",
        "print(f\"🎯 PRINCIPALES HALLAZGOS:\")\n",
        "conteo_especies = df['species'].value_counts()\n",
        "for especie, count in conteo_especies.items():\n",
        "    porcentaje = (count / df.shape[0]) * 100\n",
        "    print(f\"   - {especie}: {count} observaciones ({porcentaje:.1f}%)\")\n",
        "\n",
        "print(f\"\\n✅ Columnas disponibles:\")\n",
        "for i, col in enumerate(df.columns, 1):\n",
        "    print(f\"   {i:2d}. {col}\")\n",
        "\n",
        "print(\"\\n🎉 ¡Reto 6 completado! Análisis exploratorio del dataset Iris finalizado\")\n",
        "print(\"=\"*50)"
      ],
      "metadata": {
        "colab": {
          "base_uri": "https://localhost:8080/"
        },
        "id": "Xe8pDq0sK1ae",
        "outputId": "c8a027be-2572-4c26-eb4d-91131bf7a285"
      },
      "execution_count": null,
      "outputs": [
        {
          "output_type": "stream",
          "name": "stdout",
          "text": [
            "📈 Paso 7: Resumen ejecutivo del análisis exploratorio\n",
            "\n",
            "==================================================\n",
            "         RESUMEN EJECUTIVO - DATASET IRIS\n",
            "==================================================\n",
            "📊 DIMENSIONES: 150 observaciones × 5 características\n",
            "🔍 TIPOS DE DATOS:\n",
            "   - Numéricas: 4 columnas\n",
            "   - Categóricas: 1 columna\n",
            "❓ VALORES NULOS: 0 (0.0% del dataset)\n",
            "🎯 PRINCIPALES HALLAZGOS:\n",
            "   - setosa: 50 observaciones (33.3%)\n",
            "   - versicolor: 50 observaciones (33.3%)\n",
            "   - virginica: 50 observaciones (33.3%)\n",
            "\n",
            "✅ Columnas disponibles:\n",
            "    1. sepal_length\n",
            "    2. sepal_width\n",
            "    3. petal_length\n",
            "    4. petal_width\n",
            "    5. species\n",
            "\n",
            "🎉 ¡Reto 6 completado! Análisis exploratorio del dataset Iris finalizado\n",
            "==================================================\n"
          ]
        }
      ]
    },
    {
      "cell_type": "markdown",
      "source": [
        "## **🎯 Puntos clave del Reto 6**\n",
        "\n",
        "1. **Carga desde Seaborn**: Uso de datasets embebidos en librerías. Usar `sns.load_dataset()` es rápido y confiable para datasets clásicos.\n",
        "2. **Estructura del dataset**: Entender dimensiones y tipos de datos. `.shape`, `.columns` e `.info()` son herramientas esenciales del EDA.\n",
        "\n",
        "3. **Calidad de datos**: Verificación de valores nulos. Aunque el dataset sea pequeño y limpio, siempre se debe verificar la ausencia de nulos.\n",
        "4. **Distribución por categoría**: Análisis de frecuencia por especie. `.value_counts()` permite entender la distribución de variables cualitativas como species.\n",
        "5. **Visualización**: Gráficos para comprender la distribución\n",
        "6. **Resumen ejecutivo**: Síntesis de hallazgos importantes\n",
        "\n",
        "**📚 Valor educativo**: Este reto enseña el análisis exploratorio básico de datasets de clasificación, fundamentales en machine learning, mostrando cómo evaluar la distribución balanceada de clases y la calidad de los datos."
      ],
      "metadata": {
        "id": "tG49oH_nILcp"
      }
    }
  ]
}