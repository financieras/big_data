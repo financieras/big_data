{
  "nbformat": 4,
  "nbformat_minor": 0,
  "metadata": {
    "colab": {
      "provenance": [],
      "authorship_tag": "ABX9TyP+i9bcrD3LjfbquGUjoSUZ",
      "include_colab_link": true
    },
    "kernelspec": {
      "name": "python3",
      "display_name": "Python 3"
    },
    "language_info": {
      "name": "python"
    }
  },
  "cells": [
    {
      "cell_type": "markdown",
      "metadata": {
        "id": "view-in-github",
        "colab_type": "text"
      },
      "source": [
        "<a href=\"https://colab.research.google.com/github/financieras/big_data/blob/main/retos/reto_006.ipynb\" target=\"_parent\"><img src=\"https://colab.research.google.com/assets/colab-badge.svg\" alt=\"Open In Colab\"/></a>"
      ]
    },
    {
      "cell_type": "markdown",
      "source": [
        "# **Reto 6. Dataset \"Iris\" desde Seaborn**\n",
        "- Carga Iris desde Seaborn: `sns.load_dataset('iris')`\n",
        "- Explora estructura con `.shape`, `.info()`, `.columns`\n",
        "- Verifica valores nulos\n",
        "- Calcula número de observaciones por especie con `.value_counts()`"
      ],
      "metadata": {
        "id": "xg1F3y02IZP2"
      }
    },
    {
      "cell_type": "markdown",
      "source": [
        "# **Resolución del Reto 6**\n",
        "\n",
        "## **Paso 1: Cargar dataset Iris desde Seaborn**\n",
        "El dataset Iris contiene **150 muestras** de flores con **4 características numéricas** (medidas de sépalos y pétalos) clasificadas en **3 especies** igualmente distribuidas:\n",
        "- **setosa**\n",
        "- **versicolor** y\n",
        "- **virginica** (50 muestras cada una)\n",
        "\n",
        "Es el dataset clásico para problemas de clasificación en machine learning."
      ],
      "metadata": {
        "id": "l0uNQveMIqVT"
      }
    },
    {
      "cell_type": "code",
      "source": [
        "import pandas as pd\n",
        "import numpy as np\n",
        "import seaborn as sns\n",
        "import matplotlib.pyplot as plt\n",
        "\n",
        "print(\"🌸 Paso 1: Cargando dataset Iris desde Seaborn...\")\n",
        "df = sns.load_dataset('iris')\n",
        "print(\"✅ Dataset Iris cargado correctamente desde Seaborn\")"
      ],
      "metadata": {
        "colab": {
          "base_uri": "https://localhost:8080/"
        },
        "id": "9PIjy4UbItRK",
        "outputId": "80edbf18-d18d-47bd-f361-8a161fcd02c5"
      },
      "execution_count": 1,
      "outputs": [
        {
          "output_type": "stream",
          "name": "stdout",
          "text": [
            "🌸 Paso 1: Cargando dataset Iris desde Seaborn...\n",
            "✅ Dataset Iris cargado correctamente desde Seaborn\n"
          ]
        }
      ]
    },
    {
      "cell_type": "markdown",
      "source": [
        "## **Paso 2: Explorar estructura del dataset**\n",
        "\n",
        "```python\n",
        "print(\"📏 Paso 2: Explorando estructura del dataset...\")\n",
        "print(f\"Dimensiones del dataset: {df.shape}\")\n",
        "print(f\"- Filas (observaciones): {df.shape[0]}\")\n",
        "print(f\"- Columnas (características): {df.shape[1]}\")\n",
        "\n",
        "print(\"\\n🏷️ Columnas disponibles:\")\n",
        "for i, columna in enumerate(df.columns, 1):\n",
        "    print(f\"   {i}. {columna}\")\n",
        "\n",
        "print(\"\\n👀 Primeras 5 filas del dataset:\")\n",
        "print(df.head())\n",
        "```\n",
        "\n",
        "## **Paso 3: Información detallada del dataset**\n",
        "\n",
        "```python\n",
        "print(\"📋 Paso 3: Información detallada del dataset...\")\n",
        "print(\"\\n🔍 Información general con .info():\")\n",
        "print(df.info())\n",
        "\n",
        "print(\"\\n📊 Resumen de tipos de datos:\")\n",
        "print(f\"- Columnas numéricas: {len(df.select_dtypes(include=[np.number]).columns)}\")\n",
        "print(f\"- Columnas categóricas: {len(df.select_dtypes(include=['object']).columns)}\")\n",
        "\n",
        "print(\"\\n🏷️ Nombres de columnas con .columns:\")\n",
        "print(f\"Columnas: {list(df.columns)}\")\n",
        "```\n",
        "\n",
        "## **Paso 4: Verificar valores nulos**\n",
        "\n",
        "```python\n",
        "print(\"❓ Paso 4: Verificando valores nulos...\")\n",
        "valores_nulos = df.isnull().sum()\n",
        "print(\"Valores nulos por columna:\")\n",
        "print(valores_nulos)\n",
        "\n",
        "print(f\"\\n🎯 Total de valores nulos en el dataset: {df.isnull().sum().sum()}\")\n",
        "print(f\"📊 Porcentaje de valores nulos: {(df.isnull().sum().sum() / (df.shape[0] * df.shape[1]) * 100):.2f}%\")\n",
        "\n",
        "# Verificar si hay columnas con valores nulos\n",
        "columnas_con_nulos = valores_nulos[valores_nulos > 0]\n",
        "if len(columnas_con_nulos) == 0:\n",
        "    print(\"\\n✅ Excelente! El dataset Iris no tiene valores nulos\")\n",
        "else:\n",
        "    print(f\"\\n🚨 Columnas con valores nulos: {len(columnas_con_nulos)}\")\n",
        "    for columna, nulos in columnas_con_nulos.items():\n",
        "        print(f\"   - {columna}: {nulos} nulos ({nulos/df.shape[0]*100:.1f}%)\")\n",
        "```\n",
        "\n",
        "## **Paso 5: Número de observaciones por especie**\n",
        "\n",
        "```python\n",
        "print(\"🌺 Paso 5: Calculando número de observaciones por especie...\")\n",
        "\n",
        "conteo_especies = df['species'].value_counts()\n",
        "print(\"\\n📊 Número de observaciones por especie:\")\n",
        "print(conteo_especies)\n",
        "\n",
        "print(\"\\n📈 Distribución porcentual:\")\n",
        "porcentaje_especies = df['species'].value_counts(normalize=True) * 100\n",
        "for especie, count in conteo_especies.items():\n",
        "    porcentaje = porcentaje_especies[especie]\n",
        "    print(f\"   - {especie}: {count} observaciones ({porcentaje:.1f}%)\")\n",
        "\n",
        "print(f\"\\n🎯 Total de observaciones: {conteo_especies.sum()}\")\n",
        "print(f\"🔢 Número de especies diferentes: {len(conteo_especies)}\")\n",
        "```\n",
        "\n",
        "## **Paso 6: Visualización de la distribución por especie**\n",
        "\n",
        "```python\n",
        "print(\"📊 Paso 6: Visualizando distribución por especie...\")\n",
        "\n",
        "plt.figure(figsize=(10, 6))\n",
        "\n",
        "# Gráfico de barras para la distribución de especies\n",
        "plt.subplot(1, 2, 1)\n",
        "conteo_especies.plot(kind='bar', color=['#FF6B6B', '#4ECDC4', '#45B7D1'])\n",
        "plt.title('Distribución de Especies de Iris', fontsize=14, fontweight='bold')\n",
        "plt.xlabel('Especie', fontweight='bold')\n",
        "plt.ylabel('Número de Observaciones', fontweight='bold')\n",
        "plt.xticks(rotation=45)\n",
        "\n",
        "# Gráfico de pie para la distribución porcentual\n",
        "plt.subplot(1, 2, 2)\n",
        "colors = ['#FF6B6B', '#4ECDC4', '#45B7D1']\n",
        "plt.pie(conteo_especies, labels=conteo_especies.index, autopct='%1.1f%%',\n",
        "        colors=colors, startangle=90)\n",
        "plt.title('Distribución Porcentual\\nde Especies', fontsize=14, fontweight='bold')\n",
        "\n",
        "plt.tight_layout()\n",
        "plt.show()\n",
        "```\n",
        "\n",
        "## **Paso 7: Resumen ejecutivo del análisis**\n",
        "\n",
        "```python\n",
        "print(\"📈 Paso 7: Resumen ejecutivo del análisis exploratorio\")\n",
        "\n",
        "print(\"\\n\" + \"=\"*50)\n",
        "print(\"         RESUMEN EJECUTIVO - DATASET IRIS\")\n",
        "print(\"=\"*50)\n",
        "\n",
        "print(f\"📊 DIMENSIONES: {df.shape[0]} observaciones × {df.shape[1]} características\")\n",
        "\n",
        "print(f\"🔍 TIPOS DE DATOS:\")\n",
        "print(f\"   - Numéricas: {len(df.select_dtypes(include=[np.number]).columns)} columnas\")\n",
        "print(f\"   - Categóricas: {len(df.select_dtypes(include=['object']).columns)} columna\")\n",
        "\n",
        "nulos_totales = df.isnull().sum().sum()\n",
        "print(f\"❓ VALORES NULOS: {nulos_totales} ({nulos_totales/(df.shape[0]*df.shape[1])*100:.1f}% del dataset)\")\n",
        "\n",
        "# Principales hallazgos\n",
        "print(f\"🎯 PRINCIPALES HALLAZGOS:\")\n",
        "conteo_especies = df['species'].value_counts()\n",
        "for especie, count in conteo_especies.items():\n",
        "    porcentaje = (count / df.shape[0]) * 100\n",
        "    print(f\"   - {especie}: {count} observaciones ({porcentaje:.1f}%)\")\n",
        "\n",
        "print(f\"\\n✅ Columnas disponibles:\")\n",
        "for i, col in enumerate(df.columns, 1):\n",
        "    print(f\"   {i:2d}. {col}\")\n",
        "\n",
        "print(\"\\n🎉 ¡Reto 6 completado! Análisis exploratorio del dataset Iris finalizado\")\n",
        "print(\"=\"*50)\n",
        "```\n",
        "\n",
        "## **🎯 Puntos clave del Reto 6**\n",
        "\n",
        "1. **Carga desde Seaborn**: Uso de datasets embebidos en librerías\n",
        "2. **Estructura del dataset**: Entender dimensiones y tipos de datos\n",
        "3. **Calidad de datos**: Verificación de valores nulos\n",
        "4. **Distribución por categoría**: Análisis de frecuencia por especie\n",
        "5. **Visualización**: Gráficos para comprender la distribución\n",
        "6. **Resumen ejecutivo**: Síntesis de hallazgos importantes\n",
        "\n",
        "**📚 Valor educativo**: Este reto enseña el análisis exploratorio básico de datasets de clasificación, fundamentales en machine learning, mostrando cómo evaluar la distribución balanceada de clases y la calidad de los datos."
      ],
      "metadata": {
        "id": "tG49oH_nILcp"
      }
    }
  ]
}