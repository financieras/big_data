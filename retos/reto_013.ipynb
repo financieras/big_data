{
  "nbformat": 4,
  "nbformat_minor": 0,
  "metadata": {
    "colab": {
      "provenance": [],
      "authorship_tag": "ABX9TyP/rrODTVI6BsPY5pUhMfHq",
      "include_colab_link": true
    },
    "kernelspec": {
      "name": "python3",
      "display_name": "Python 3"
    },
    "language_info": {
      "name": "python"
    }
  },
  "cells": [
    {
      "cell_type": "markdown",
      "metadata": {
        "id": "view-in-github",
        "colab_type": "text"
      },
      "source": [
        "<a href=\"https://colab.research.google.com/github/financieras/big_data/blob/main/retos/reto_013.ipynb\" target=\"_parent\"><img src=\"https://colab.research.google.com/assets/colab-badge.svg\" alt=\"Open In Colab\"/></a>"
      ]
    },
    {
      "cell_type": "markdown",
      "source": [
        "# **Reto 13. Correlaciones en datos médicos**\n",
        "- Carga el dataset \"Breast Cancer\" desde scikit-learn\n",
        "- Calcula matriz de correlación de las primeras 10 características\n",
        "- Encuentra qué características están más correlacionadas con 'worst radius'\n",
        "- Visualiza con heatmap las primeras 10 características"
      ],
      "metadata": {
        "id": "hW2Sl-Rahs5I"
      }
    },
    {
      "cell_type": "markdown",
      "source": [],
      "metadata": {
        "id": "UXfoyGfGh3Bx"
      }
    }
  ]
}