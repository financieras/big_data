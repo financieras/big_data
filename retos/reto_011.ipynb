{
  "nbformat": 4,
  "nbformat_minor": 0,
  "metadata": {
    "colab": {
      "provenance": [],
      "authorship_tag": "ABX9TyPgzaQCI+PhCqna/+PudqTA",
      "include_colab_link": true
    },
    "kernelspec": {
      "name": "python3",
      "display_name": "Python 3"
    },
    "language_info": {
      "name": "python"
    }
  },
  "cells": [
    {
      "cell_type": "markdown",
      "metadata": {
        "id": "view-in-github",
        "colab_type": "text"
      },
      "source": [
        "<a href=\"https://colab.research.google.com/github/financieras/big_data/blob/main/retos/reto_011.ipynb\" target=\"_parent\"><img src=\"https://colab.research.google.com/assets/colab-badge.svg\" alt=\"Open In Colab\"/></a>"
      ]
    },
    {
      "cell_type": "markdown",
      "source": [
        "### **Reto 11. Dataset \"Breast Cancer\" desde scikit-learn**\n",
        "```python\n",
        "from sklearn.datasets import load_breast_cancer\n",
        "import pandas as pd\n",
        "\n",
        "data = load_breast_cancer()\n",
        "df = pd.DataFrame(data.data, columns=data.feature_names)\n",
        "df['target'] = data.target\n",
        "df['diagnosis'] = df['target'].map({0: 'malignant', 1: 'benign'})\n",
        "```\n",
        "- Explora dimensiones con `.shape`\n",
        "- Verifica balance entre clases con `.value_counts()`\n",
        "- Calcula porcentaje de cada diagnóstico"
      ],
      "metadata": {
        "id": "KT-lkJK3E7zu"
      }
    },
    {
      "cell_type": "markdown",
      "source": [
        "# **Resolución del Reto 11**\n",
        "\n",
        "- El dataset **Breast Cancer Wisconsin** es uno de los conjuntos de datos más utilizados en problemas de clasificación binaria en machine learning.\n",
        "- Contiene características computadas a partir de imágenes digitalizadas de masas mamarias, donde el objetivo es clasificar tumores como malignos (0) o benignos (1)."
      ],
      "metadata": {
        "id": "KQH_PswyFo-H"
      }
    },
    {
      "cell_type": "markdown",
      "source": [
        "## **Paso 1: Importar librerías y cargar dataset**\n",
        "\n",
        "Cargamos el dataset directamente desde scikit-learn, que nos proporciona un conjunto de datos limpio y bien estructurado para análisis."
      ],
      "metadata": {
        "id": "kfBnaJJrFskH"
      }
    },
    {
      "cell_type": "code",
      "source": [
        "# EJECUTA ESTE CÓDIGO PARA CARGAR EL DATASET\n",
        "print(\"🔄 Paso 1: Cargando dataset Breast Cancer desde scikit-learn...\")\n",
        "from sklearn.datasets import load_breast_cancer\n",
        "import pandas as pd\n",
        "\n",
        "data = load_breast_cancer()\n",
        "df = pd.DataFrame(data.data, columns=data.feature_names)\n",
        "df['target'] = data.target\n",
        "df['diagnosis'] = df['target'].map({0: 'malignant', 1: 'benign'})\n",
        "print(\"✅ Dataset cargado correctamente\")"
      ],
      "metadata": {
        "colab": {
          "base_uri": "https://localhost:8080/"
        },
        "id": "oc_EYWuXFxDT",
        "outputId": "e3e84cfa-acd6-4a16-fccf-7a3656bdfd38"
      },
      "execution_count": 1,
      "outputs": [
        {
          "output_type": "stream",
          "name": "stdout",
          "text": [
            "🔄 Paso 1: Cargando dataset Breast Cancer desde scikit-learn...\n",
            "✅ Dataset cargado correctamente\n"
          ]
        }
      ]
    },
    {
      "cell_type": "markdown",
      "source": [
        "## **Paso 2: Explorar dimensiones con `.shape`**\n",
        "\n",
        "Verificamos el tamaño del dataset para entender su escala."
      ],
      "metadata": {
        "id": "4xV9wubcF1ov"
      }
    },
    {
      "cell_type": "code",
      "source": [
        "# EJECUTA ESTE CÓDIGO PARA VER DIMENSIONES\n",
        "print(\"📐 Paso 2: Explorando dimensiones del dataset...\")\n",
        "print(f\"Dimensiones del dataset: {df.shape}\")\n",
        "print(f\"- Número de registros: {df.shape[0]} pacientes\")\n",
        "print(f\"- Número de características: {df.shape[1]} columnas\")"
      ],
      "metadata": {
        "id": "uHNpATwfF6LB"
      },
      "execution_count": null,
      "outputs": []
    },
    {
      "cell_type": "markdown",
      "source": [
        "## **Paso 3: Verificar balance entre clases con `.value_counts()`**\n",
        "\n",
        "Analizamos la distribución de las clases objetivo para entender si el dataset está balanceado."
      ],
      "metadata": {
        "id": "YNTQzil3F9tu"
      }
    },
    {
      "cell_type": "code",
      "source": [
        "# EJECUTA ESTE CÓDIGO PARA VER DISTRIBUCIÓN DE CLASES\n",
        "print(\"⚖️ Paso 3: Verificando balance entre clases...\")\n",
        "distribucion = df['diagnosis'].value_counts()\n",
        "print(\"Distribución de diagnósticos:\")\n",
        "print(distribucion)"
      ],
      "metadata": {
        "id": "D4YyM1CGGCx9"
      },
      "execution_count": null,
      "outputs": []
    },
    {
      "cell_type": "markdown",
      "source": [
        "## **Paso 4: Calcular porcentaje de cada diagnóstico**\n",
        "\n",
        "Convertimos la distribución absoluta a porcentajes para una mejor interpretación."
      ],
      "metadata": {
        "id": "0yZjicmeGJh0"
      }
    },
    {
      "cell_type": "code",
      "source": [
        "# EJECUTA ESTE CÓDIGO PARA CALCULAR PORCENTAJES\n",
        "print(\"📊 Paso 4: Calculando porcentajes de cada diagnóstico...\")\n",
        "porcentajes = df['diagnosis'].value_counts(normalize=True) * 100\n",
        "print(\"Porcentaje de cada diagnóstico:\")\n",
        "print(porcentajes.round(2))"
      ],
      "metadata": {
        "id": "aKzZsFAIGKfV"
      },
      "execution_count": null,
      "outputs": []
    },
    {
      "cell_type": "markdown",
      "source": [
        "## **Paso 5: Análisis completo del dataset**\n",
        "\n",
        "Realizamos un análisis más detallado que integra todos los aspectos anteriores."
      ],
      "metadata": {
        "id": "qWsl1EuZGSkk"
      }
    },
    {
      "cell_type": "code",
      "source": [
        "# EJECUTA ESTE CÓDIGO PARA ANÁLISIS COMPLETO\n",
        "print(\"🔍 Paso 5: Análisis completo del dataset Breast Cancer...\")\n",
        "\n",
        "# Dimensiones\n",
        "print(f\"📐 Dimensiones: {df.shape[0]} pacientes × {df.shape[1]} características\")\n",
        "\n",
        "# Distribución de clases\n",
        "dist_target = df['target'].value_counts().sort_index()\n",
        "dist_diagnosis = df['diagnosis'].value_counts()\n",
        "\n",
        "print(f\"🎯 Distribución por target (numérico):\")\n",
        "print(f\"   - 0 (malignant): {dist_target[0]} casos\")\n",
        "print(f\"   - 1 (benign): {dist_target[1]} casos\")\n",
        "\n",
        "print(f\"🏥 Distribución por diagnóstico:\")\n",
        "for diagnosis, count in dist_diagnosis.items():\n",
        "    percentage = (count / len(df)) * 100\n",
        "    print(f\"   - {diagnosis}: {count} casos ({percentage:.1f}%)\")\n",
        "\n",
        "# Información sobre balance\n",
        "total_casos = len(df)\n",
        "diferencia = abs(dist_target[0] - dist_target[1])\n",
        "print(f\"⚖️ Balance del dataset: {diferencia} casos de diferencia\")\n",
        "print(f\"📈 El dataset está {'balanceado' if diferencia/total_casos < 0.1 else 'desbalanceado'}\")"
      ],
      "metadata": {
        "id": "GhzPai2bGVpJ"
      },
      "execution_count": null,
      "outputs": []
    },
    {
      "cell_type": "markdown",
      "source": [
        "## **Paso 6: Información adicional del dataset**\n",
        "\n",
        "Obtenemos metadatos importantes proporcionados por scikit-learn."
      ],
      "metadata": {
        "id": "kmm50jT0GaJD"
      }
    },
    {
      "cell_type": "code",
      "source": [
        "# EJECUTA ESTE CÓDIGO PARA INFORMACIÓN ADICIONAL\n",
        "print(\"📋 Paso 6: Información adicional del dataset...\")\n",
        "print(f\"Nombre del dataset: {data.DESCR.splitlines()[0]}\")\n",
        "print(f\"Características disponibles: {len(data.feature_names)}\")\n",
        "print(f\"Clases: {data.target_names}\")\n",
        "print(f\"Descripción breve: {data.DESCR.split('Usage')[0][:200]}...\")"
      ],
      "metadata": {
        "id": "e4OZCFv6GbHz"
      },
      "execution_count": null,
      "outputs": []
    },
    {
      "cell_type": "markdown",
      "source": [
        "## **🎯 Puntos clave del Reto 11**\n",
        "\n",
        "Hemos explorado exitosamente el dataset Breast Cancer de Wisconsin, comprendiendo su estructura y distribución fundamental para problemas de clasificación médica.\n",
        "\n",
        "### **Hallazgos principales:**\n",
        "- **Dataset balanceado**: Aproximadamente 63% benigno vs 37% maligno\n",
        "- **Características robustas**: 30 características numéricas derivadas de imágenes\n",
        "- **Contexto médico**: Clasificación binaria crítica para diagnóstico temprano de cáncer\n",
        "\n",
        "### **Competencias técnicas adquiridas:**\n",
        "1. **Carga desde scikit-learn**: Uso de `load_breast_cancer()` para datasets preprocesados\n",
        "2. **Manipulación de DataFrames**: Conversión de arrays numpy a pandas DataFrame\n",
        "3. **Análisis de distribución**: Uso de `.value_counts()` y normalización para porcentajes\n",
        "4. **Evaluación de balance**: Determinación del equilibrio entre clases\n",
        "5. **Interpretación médica**: Contextualización de resultados en dominio específico\n",
        "\n",
        "### **Próximos pasos:**\n",
        "Este dataset es ideal para practicar técnicas de clasificación, feature engineering y evaluación de modelos en el contexto de diagnóstico médico asistido por machine learning."
      ],
      "metadata": {
        "id": "kxFtS05NFE51"
      }
    }
  ]
}