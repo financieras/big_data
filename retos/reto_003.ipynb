{
  "nbformat": 4,
  "nbformat_minor": 0,
  "metadata": {
    "colab": {
      "provenance": [],
      "authorship_tag": "ABX9TyOXY3OaZhjC+vJFOIfO33+Y",
      "include_colab_link": true
    },
    "kernelspec": {
      "name": "python3",
      "display_name": "Python 3"
    },
    "language_info": {
      "name": "python"
    }
  },
  "cells": [
    {
      "cell_type": "markdown",
      "metadata": {
        "id": "view-in-github",
        "colab_type": "text"
      },
      "source": [
        "<a href=\"https://colab.research.google.com/github/financieras/big_data/blob/main/retos/reto_003.ipynb\" target=\"_parent\"><img src=\"https://colab.research.google.com/assets/colab-badge.svg\" alt=\"Open In Colab\"/></a>"
      ]
    },
    {
      "cell_type": "markdown",
      "source": [
        "# **Reto 3. Datasets embebidos y análisis de supervivencia**\n",
        "- Carga Titanic desde Seaborn: `sns.load_dataset('titanic')`\n",
        "- Calcula proporción de supervivientes por sexo usando `.groupby(['sex'])['survived'].mean()`\n",
        "- Calcula proporción de supervivientes por clase\n",
        "- Crea gráfico de barras con estas proporciones"
      ],
      "metadata": {
        "id": "0LDiGqn8CFr7"
      }
    },
    {
      "cell_type": "markdown",
      "source": [
        "# **Resolución del Reto 3**\n",
        "\n",
        "## **Paso 1: Importar librerías y cargar dataset desde Seaborn**\n",
        "Cargamos los datos directamente desde Seaborn, listos para el análisis."
      ],
      "metadata": {
        "id": "gRoV8DatCIV_"
      }
    },
    {
      "cell_type": "code",
      "source": [
        "# EJECUTA ESTE CÓDIGO PARA CARGAR DESDE SEABORN\n",
        "import seaborn as sns\n",
        "import matplotlib.pyplot as plt\n",
        "import pandas as pd\n",
        "import warnings\n",
        "warnings.filterwarnings('ignore')\n",
        "\n",
        "print(\"📦 Paso 1: Cargando dataset Titanic desde Seaborn...\")\n",
        "df = sns.load_dataset('titanic')\n",
        "print(\"✅ Dataset cargado correctamente desde Seaborn\")\n",
        "\n",
        "print(f\"📊 Dimensiones: {df.shape}\")\n",
        "print(\"👀 Primeras filas:\")\n",
        "df.head()"
      ],
      "metadata": {
        "colab": {
          "base_uri": "https://localhost:8080/",
          "height": 295
        },
        "id": "2r4JR6o2DZ-8",
        "outputId": "0618490f-e091-418d-f466-6671c5b0258c"
      },
      "execution_count": 1,
      "outputs": [
        {
          "output_type": "stream",
          "name": "stdout",
          "text": [
            "📦 Paso 1: Cargando dataset Titanic desde Seaborn...\n",
            "✅ Dataset cargado correctamente desde Seaborn\n",
            "📊 Dimensiones: (891, 15)\n",
            "👀 Primeras filas:\n"
          ]
        },
        {
          "output_type": "execute_result",
          "data": {
            "text/plain": [
              "   survived  pclass     sex   age  sibsp  parch     fare embarked  class  \\\n",
              "0         0       3    male  22.0      1      0   7.2500        S  Third   \n",
              "1         1       1  female  38.0      1      0  71.2833        C  First   \n",
              "2         1       3  female  26.0      0      0   7.9250        S  Third   \n",
              "3         1       1  female  35.0      1      0  53.1000        S  First   \n",
              "4         0       3    male  35.0      0      0   8.0500        S  Third   \n",
              "\n",
              "     who  adult_male deck  embark_town alive  alone  \n",
              "0    man        True  NaN  Southampton    no  False  \n",
              "1  woman       False    C    Cherbourg   yes  False  \n",
              "2  woman       False  NaN  Southampton   yes   True  \n",
              "3  woman       False    C  Southampton   yes  False  \n",
              "4    man        True  NaN  Southampton    no   True  "
            ],
            "text/html": [
              "\n",
              "  <div id=\"df-05b4f72f-2447-4bf7-b161-e43ad4ae844a\" class=\"colab-df-container\">\n",
              "    <div>\n",
              "<style scoped>\n",
              "    .dataframe tbody tr th:only-of-type {\n",
              "        vertical-align: middle;\n",
              "    }\n",
              "\n",
              "    .dataframe tbody tr th {\n",
              "        vertical-align: top;\n",
              "    }\n",
              "\n",
              "    .dataframe thead th {\n",
              "        text-align: right;\n",
              "    }\n",
              "</style>\n",
              "<table border=\"1\" class=\"dataframe\">\n",
              "  <thead>\n",
              "    <tr style=\"text-align: right;\">\n",
              "      <th></th>\n",
              "      <th>survived</th>\n",
              "      <th>pclass</th>\n",
              "      <th>sex</th>\n",
              "      <th>age</th>\n",
              "      <th>sibsp</th>\n",
              "      <th>parch</th>\n",
              "      <th>fare</th>\n",
              "      <th>embarked</th>\n",
              "      <th>class</th>\n",
              "      <th>who</th>\n",
              "      <th>adult_male</th>\n",
              "      <th>deck</th>\n",
              "      <th>embark_town</th>\n",
              "      <th>alive</th>\n",
              "      <th>alone</th>\n",
              "    </tr>\n",
              "  </thead>\n",
              "  <tbody>\n",
              "    <tr>\n",
              "      <th>0</th>\n",
              "      <td>0</td>\n",
              "      <td>3</td>\n",
              "      <td>male</td>\n",
              "      <td>22.0</td>\n",
              "      <td>1</td>\n",
              "      <td>0</td>\n",
              "      <td>7.2500</td>\n",
              "      <td>S</td>\n",
              "      <td>Third</td>\n",
              "      <td>man</td>\n",
              "      <td>True</td>\n",
              "      <td>NaN</td>\n",
              "      <td>Southampton</td>\n",
              "      <td>no</td>\n",
              "      <td>False</td>\n",
              "    </tr>\n",
              "    <tr>\n",
              "      <th>1</th>\n",
              "      <td>1</td>\n",
              "      <td>1</td>\n",
              "      <td>female</td>\n",
              "      <td>38.0</td>\n",
              "      <td>1</td>\n",
              "      <td>0</td>\n",
              "      <td>71.2833</td>\n",
              "      <td>C</td>\n",
              "      <td>First</td>\n",
              "      <td>woman</td>\n",
              "      <td>False</td>\n",
              "      <td>C</td>\n",
              "      <td>Cherbourg</td>\n",
              "      <td>yes</td>\n",
              "      <td>False</td>\n",
              "    </tr>\n",
              "    <tr>\n",
              "      <th>2</th>\n",
              "      <td>1</td>\n",
              "      <td>3</td>\n",
              "      <td>female</td>\n",
              "      <td>26.0</td>\n",
              "      <td>0</td>\n",
              "      <td>0</td>\n",
              "      <td>7.9250</td>\n",
              "      <td>S</td>\n",
              "      <td>Third</td>\n",
              "      <td>woman</td>\n",
              "      <td>False</td>\n",
              "      <td>NaN</td>\n",
              "      <td>Southampton</td>\n",
              "      <td>yes</td>\n",
              "      <td>True</td>\n",
              "    </tr>\n",
              "    <tr>\n",
              "      <th>3</th>\n",
              "      <td>1</td>\n",
              "      <td>1</td>\n",
              "      <td>female</td>\n",
              "      <td>35.0</td>\n",
              "      <td>1</td>\n",
              "      <td>0</td>\n",
              "      <td>53.1000</td>\n",
              "      <td>S</td>\n",
              "      <td>First</td>\n",
              "      <td>woman</td>\n",
              "      <td>False</td>\n",
              "      <td>C</td>\n",
              "      <td>Southampton</td>\n",
              "      <td>yes</td>\n",
              "      <td>False</td>\n",
              "    </tr>\n",
              "    <tr>\n",
              "      <th>4</th>\n",
              "      <td>0</td>\n",
              "      <td>3</td>\n",
              "      <td>male</td>\n",
              "      <td>35.0</td>\n",
              "      <td>0</td>\n",
              "      <td>0</td>\n",
              "      <td>8.0500</td>\n",
              "      <td>S</td>\n",
              "      <td>Third</td>\n",
              "      <td>man</td>\n",
              "      <td>True</td>\n",
              "      <td>NaN</td>\n",
              "      <td>Southampton</td>\n",
              "      <td>no</td>\n",
              "      <td>True</td>\n",
              "    </tr>\n",
              "  </tbody>\n",
              "</table>\n",
              "</div>\n",
              "    <div class=\"colab-df-buttons\">\n",
              "\n",
              "  <div class=\"colab-df-container\">\n",
              "    <button class=\"colab-df-convert\" onclick=\"convertToInteractive('df-05b4f72f-2447-4bf7-b161-e43ad4ae844a')\"\n",
              "            title=\"Convert this dataframe to an interactive table.\"\n",
              "            style=\"display:none;\">\n",
              "\n",
              "  <svg xmlns=\"http://www.w3.org/2000/svg\" height=\"24px\" viewBox=\"0 -960 960 960\">\n",
              "    <path d=\"M120-120v-720h720v720H120Zm60-500h600v-160H180v160Zm220 220h160v-160H400v160Zm0 220h160v-160H400v160ZM180-400h160v-160H180v160Zm440 0h160v-160H620v160ZM180-180h160v-160H180v160Zm440 0h160v-160H620v160Z\"/>\n",
              "  </svg>\n",
              "    </button>\n",
              "\n",
              "  <style>\n",
              "    .colab-df-container {\n",
              "      display:flex;\n",
              "      gap: 12px;\n",
              "    }\n",
              "\n",
              "    .colab-df-convert {\n",
              "      background-color: #E8F0FE;\n",
              "      border: none;\n",
              "      border-radius: 50%;\n",
              "      cursor: pointer;\n",
              "      display: none;\n",
              "      fill: #1967D2;\n",
              "      height: 32px;\n",
              "      padding: 0 0 0 0;\n",
              "      width: 32px;\n",
              "    }\n",
              "\n",
              "    .colab-df-convert:hover {\n",
              "      background-color: #E2EBFA;\n",
              "      box-shadow: 0px 1px 2px rgba(60, 64, 67, 0.3), 0px 1px 3px 1px rgba(60, 64, 67, 0.15);\n",
              "      fill: #174EA6;\n",
              "    }\n",
              "\n",
              "    .colab-df-buttons div {\n",
              "      margin-bottom: 4px;\n",
              "    }\n",
              "\n",
              "    [theme=dark] .colab-df-convert {\n",
              "      background-color: #3B4455;\n",
              "      fill: #D2E3FC;\n",
              "    }\n",
              "\n",
              "    [theme=dark] .colab-df-convert:hover {\n",
              "      background-color: #434B5C;\n",
              "      box-shadow: 0px 1px 3px 1px rgba(0, 0, 0, 0.15);\n",
              "      filter: drop-shadow(0px 1px 2px rgba(0, 0, 0, 0.3));\n",
              "      fill: #FFFFFF;\n",
              "    }\n",
              "  </style>\n",
              "\n",
              "    <script>\n",
              "      const buttonEl =\n",
              "        document.querySelector('#df-05b4f72f-2447-4bf7-b161-e43ad4ae844a button.colab-df-convert');\n",
              "      buttonEl.style.display =\n",
              "        google.colab.kernel.accessAllowed ? 'block' : 'none';\n",
              "\n",
              "      async function convertToInteractive(key) {\n",
              "        const element = document.querySelector('#df-05b4f72f-2447-4bf7-b161-e43ad4ae844a');\n",
              "        const dataTable =\n",
              "          await google.colab.kernel.invokeFunction('convertToInteractive',\n",
              "                                                    [key], {});\n",
              "        if (!dataTable) return;\n",
              "\n",
              "        const docLinkHtml = 'Like what you see? Visit the ' +\n",
              "          '<a target=\"_blank\" href=https://colab.research.google.com/notebooks/data_table.ipynb>data table notebook</a>'\n",
              "          + ' to learn more about interactive tables.';\n",
              "        element.innerHTML = '';\n",
              "        dataTable['output_type'] = 'display_data';\n",
              "        await google.colab.output.renderOutput(dataTable, element);\n",
              "        const docLink = document.createElement('div');\n",
              "        docLink.innerHTML = docLinkHtml;\n",
              "        element.appendChild(docLink);\n",
              "      }\n",
              "    </script>\n",
              "  </div>\n",
              "\n",
              "\n",
              "    <div id=\"df-3efcdf7b-9c43-4d6b-9722-c39f617af26f\">\n",
              "      <button class=\"colab-df-quickchart\" onclick=\"quickchart('df-3efcdf7b-9c43-4d6b-9722-c39f617af26f')\"\n",
              "                title=\"Suggest charts\"\n",
              "                style=\"display:none;\">\n",
              "\n",
              "<svg xmlns=\"http://www.w3.org/2000/svg\" height=\"24px\"viewBox=\"0 0 24 24\"\n",
              "     width=\"24px\">\n",
              "    <g>\n",
              "        <path d=\"M19 3H5c-1.1 0-2 .9-2 2v14c0 1.1.9 2 2 2h14c1.1 0 2-.9 2-2V5c0-1.1-.9-2-2-2zM9 17H7v-7h2v7zm4 0h-2V7h2v10zm4 0h-2v-4h2v4z\"/>\n",
              "    </g>\n",
              "</svg>\n",
              "      </button>\n",
              "\n",
              "<style>\n",
              "  .colab-df-quickchart {\n",
              "      --bg-color: #E8F0FE;\n",
              "      --fill-color: #1967D2;\n",
              "      --hover-bg-color: #E2EBFA;\n",
              "      --hover-fill-color: #174EA6;\n",
              "      --disabled-fill-color: #AAA;\n",
              "      --disabled-bg-color: #DDD;\n",
              "  }\n",
              "\n",
              "  [theme=dark] .colab-df-quickchart {\n",
              "      --bg-color: #3B4455;\n",
              "      --fill-color: #D2E3FC;\n",
              "      --hover-bg-color: #434B5C;\n",
              "      --hover-fill-color: #FFFFFF;\n",
              "      --disabled-bg-color: #3B4455;\n",
              "      --disabled-fill-color: #666;\n",
              "  }\n",
              "\n",
              "  .colab-df-quickchart {\n",
              "    background-color: var(--bg-color);\n",
              "    border: none;\n",
              "    border-radius: 50%;\n",
              "    cursor: pointer;\n",
              "    display: none;\n",
              "    fill: var(--fill-color);\n",
              "    height: 32px;\n",
              "    padding: 0;\n",
              "    width: 32px;\n",
              "  }\n",
              "\n",
              "  .colab-df-quickchart:hover {\n",
              "    background-color: var(--hover-bg-color);\n",
              "    box-shadow: 0 1px 2px rgba(60, 64, 67, 0.3), 0 1px 3px 1px rgba(60, 64, 67, 0.15);\n",
              "    fill: var(--button-hover-fill-color);\n",
              "  }\n",
              "\n",
              "  .colab-df-quickchart-complete:disabled,\n",
              "  .colab-df-quickchart-complete:disabled:hover {\n",
              "    background-color: var(--disabled-bg-color);\n",
              "    fill: var(--disabled-fill-color);\n",
              "    box-shadow: none;\n",
              "  }\n",
              "\n",
              "  .colab-df-spinner {\n",
              "    border: 2px solid var(--fill-color);\n",
              "    border-color: transparent;\n",
              "    border-bottom-color: var(--fill-color);\n",
              "    animation:\n",
              "      spin 1s steps(1) infinite;\n",
              "  }\n",
              "\n",
              "  @keyframes spin {\n",
              "    0% {\n",
              "      border-color: transparent;\n",
              "      border-bottom-color: var(--fill-color);\n",
              "      border-left-color: var(--fill-color);\n",
              "    }\n",
              "    20% {\n",
              "      border-color: transparent;\n",
              "      border-left-color: var(--fill-color);\n",
              "      border-top-color: var(--fill-color);\n",
              "    }\n",
              "    30% {\n",
              "      border-color: transparent;\n",
              "      border-left-color: var(--fill-color);\n",
              "      border-top-color: var(--fill-color);\n",
              "      border-right-color: var(--fill-color);\n",
              "    }\n",
              "    40% {\n",
              "      border-color: transparent;\n",
              "      border-right-color: var(--fill-color);\n",
              "      border-top-color: var(--fill-color);\n",
              "    }\n",
              "    60% {\n",
              "      border-color: transparent;\n",
              "      border-right-color: var(--fill-color);\n",
              "    }\n",
              "    80% {\n",
              "      border-color: transparent;\n",
              "      border-right-color: var(--fill-color);\n",
              "      border-bottom-color: var(--fill-color);\n",
              "    }\n",
              "    90% {\n",
              "      border-color: transparent;\n",
              "      border-bottom-color: var(--fill-color);\n",
              "    }\n",
              "  }\n",
              "</style>\n",
              "\n",
              "      <script>\n",
              "        async function quickchart(key) {\n",
              "          const quickchartButtonEl =\n",
              "            document.querySelector('#' + key + ' button');\n",
              "          quickchartButtonEl.disabled = true;  // To prevent multiple clicks.\n",
              "          quickchartButtonEl.classList.add('colab-df-spinner');\n",
              "          try {\n",
              "            const charts = await google.colab.kernel.invokeFunction(\n",
              "                'suggestCharts', [key], {});\n",
              "          } catch (error) {\n",
              "            console.error('Error during call to suggestCharts:', error);\n",
              "          }\n",
              "          quickchartButtonEl.classList.remove('colab-df-spinner');\n",
              "          quickchartButtonEl.classList.add('colab-df-quickchart-complete');\n",
              "        }\n",
              "        (() => {\n",
              "          let quickchartButtonEl =\n",
              "            document.querySelector('#df-3efcdf7b-9c43-4d6b-9722-c39f617af26f button');\n",
              "          quickchartButtonEl.style.display =\n",
              "            google.colab.kernel.accessAllowed ? 'block' : 'none';\n",
              "        })();\n",
              "      </script>\n",
              "    </div>\n",
              "\n",
              "    </div>\n",
              "  </div>\n"
            ],
            "application/vnd.google.colaboratory.intrinsic+json": {
              "type": "dataframe",
              "variable_name": "df",
              "summary": "{\n  \"name\": \"df\",\n  \"rows\": 891,\n  \"fields\": [\n    {\n      \"column\": \"survived\",\n      \"properties\": {\n        \"dtype\": \"number\",\n        \"std\": 0,\n        \"min\": 0,\n        \"max\": 1,\n        \"num_unique_values\": 2,\n        \"samples\": [\n          1,\n          0\n        ],\n        \"semantic_type\": \"\",\n        \"description\": \"\"\n      }\n    },\n    {\n      \"column\": \"pclass\",\n      \"properties\": {\n        \"dtype\": \"number\",\n        \"std\": 0,\n        \"min\": 1,\n        \"max\": 3,\n        \"num_unique_values\": 3,\n        \"samples\": [\n          3,\n          1\n        ],\n        \"semantic_type\": \"\",\n        \"description\": \"\"\n      }\n    },\n    {\n      \"column\": \"sex\",\n      \"properties\": {\n        \"dtype\": \"category\",\n        \"num_unique_values\": 2,\n        \"samples\": [\n          \"female\",\n          \"male\"\n        ],\n        \"semantic_type\": \"\",\n        \"description\": \"\"\n      }\n    },\n    {\n      \"column\": \"age\",\n      \"properties\": {\n        \"dtype\": \"number\",\n        \"std\": 14.526497332334044,\n        \"min\": 0.42,\n        \"max\": 80.0,\n        \"num_unique_values\": 88,\n        \"samples\": [\n          0.75,\n          22.0\n        ],\n        \"semantic_type\": \"\",\n        \"description\": \"\"\n      }\n    },\n    {\n      \"column\": \"sibsp\",\n      \"properties\": {\n        \"dtype\": \"number\",\n        \"std\": 1,\n        \"min\": 0,\n        \"max\": 8,\n        \"num_unique_values\": 7,\n        \"samples\": [\n          1,\n          0\n        ],\n        \"semantic_type\": \"\",\n        \"description\": \"\"\n      }\n    },\n    {\n      \"column\": \"parch\",\n      \"properties\": {\n        \"dtype\": \"number\",\n        \"std\": 0,\n        \"min\": 0,\n        \"max\": 6,\n        \"num_unique_values\": 7,\n        \"samples\": [\n          0,\n          1\n        ],\n        \"semantic_type\": \"\",\n        \"description\": \"\"\n      }\n    },\n    {\n      \"column\": \"fare\",\n      \"properties\": {\n        \"dtype\": \"number\",\n        \"std\": 49.693428597180905,\n        \"min\": 0.0,\n        \"max\": 512.3292,\n        \"num_unique_values\": 248,\n        \"samples\": [\n          11.2417,\n          51.8625\n        ],\n        \"semantic_type\": \"\",\n        \"description\": \"\"\n      }\n    },\n    {\n      \"column\": \"embarked\",\n      \"properties\": {\n        \"dtype\": \"category\",\n        \"num_unique_values\": 3,\n        \"samples\": [\n          \"S\",\n          \"C\"\n        ],\n        \"semantic_type\": \"\",\n        \"description\": \"\"\n      }\n    },\n    {\n      \"column\": \"class\",\n      \"properties\": {\n        \"dtype\": \"category\",\n        \"num_unique_values\": 3,\n        \"samples\": [\n          \"Third\",\n          \"First\"\n        ],\n        \"semantic_type\": \"\",\n        \"description\": \"\"\n      }\n    },\n    {\n      \"column\": \"who\",\n      \"properties\": {\n        \"dtype\": \"category\",\n        \"num_unique_values\": 3,\n        \"samples\": [\n          \"man\",\n          \"woman\"\n        ],\n        \"semantic_type\": \"\",\n        \"description\": \"\"\n      }\n    },\n    {\n      \"column\": \"adult_male\",\n      \"properties\": {\n        \"dtype\": \"boolean\",\n        \"num_unique_values\": 2,\n        \"samples\": [\n          false,\n          true\n        ],\n        \"semantic_type\": \"\",\n        \"description\": \"\"\n      }\n    },\n    {\n      \"column\": \"deck\",\n      \"properties\": {\n        \"dtype\": \"category\",\n        \"num_unique_values\": 7,\n        \"samples\": [\n          \"C\",\n          \"E\"\n        ],\n        \"semantic_type\": \"\",\n        \"description\": \"\"\n      }\n    },\n    {\n      \"column\": \"embark_town\",\n      \"properties\": {\n        \"dtype\": \"category\",\n        \"num_unique_values\": 3,\n        \"samples\": [\n          \"Southampton\",\n          \"Cherbourg\"\n        ],\n        \"semantic_type\": \"\",\n        \"description\": \"\"\n      }\n    },\n    {\n      \"column\": \"alive\",\n      \"properties\": {\n        \"dtype\": \"category\",\n        \"num_unique_values\": 2,\n        \"samples\": [\n          \"yes\",\n          \"no\"\n        ],\n        \"semantic_type\": \"\",\n        \"description\": \"\"\n      }\n    },\n    {\n      \"column\": \"alone\",\n      \"properties\": {\n        \"dtype\": \"boolean\",\n        \"num_unique_values\": 2,\n        \"samples\": [\n          true,\n          false\n        ],\n        \"semantic_type\": \"\",\n        \"description\": \"\"\n      }\n    }\n  ]\n}"
            }
          },
          "metadata": {},
          "execution_count": 1
        }
      ]
    },
    {
      "cell_type": "markdown",
      "source": [
        "## **Paso 2: Calcular proporción de supervivientes por sexo**\n",
        "Analizamos cómo el género influyó en las probabilidades de supervivencia."
      ],
      "metadata": {
        "id": "rbJnxSzyDpTT"
      }
    },
    {
      "cell_type": "code",
      "source": [
        "# EJECUTA ESTE CÓDIGO PARA ANÁLISIS POR SEXO\n",
        "print(\"🚻 Paso 2: Calculando proporción de supervivientes por sexo...\")\n",
        "\n",
        "supervivencia_sexo = df.groupby('sex')['survived'].mean()\n",
        "print(\"📈 Tasa de supervivencia por sexo:\")\n",
        "print(supervivencia_sexo)\n",
        "\n",
        "print(f\"\\n🎯 Hallazgos:\")\n",
        "print(f\"   - Mujeres: {supervivencia_sexo['female']*100:.1f}% sobrevivieron\")\n",
        "print(f\"   - Hombres: {supervivencia_sexo['male']*100:.1f}% sobrevivieron\")\n",
        "print(f\"   - Diferencia: {(supervivencia_sexo['female'] - supervivencia_sexo['male'])*100:.1f} puntos porcentuales\")"
      ],
      "metadata": {
        "colab": {
          "base_uri": "https://localhost:8080/"
        },
        "id": "CA8zv7z6Dt-0",
        "outputId": "a32f3085-5279-4588-81ea-46bbaa56772b"
      },
      "execution_count": 2,
      "outputs": [
        {
          "output_type": "stream",
          "name": "stdout",
          "text": [
            "🚻 Paso 2: Calculando proporción de supervivientes por sexo...\n",
            "📈 Tasa de supervivencia por sexo:\n",
            "sex\n",
            "female    0.742038\n",
            "male      0.188908\n",
            "Name: survived, dtype: float64\n",
            "\n",
            "🎯 Hallazgos:\n",
            "   - Mujeres: 74.2% sobrevivieron\n",
            "   - Hombres: 18.9% sobrevivieron\n",
            "   - Diferencia: 55.3 puntos porcentuales\n"
          ]
        }
      ]
    },
    {
      "cell_type": "markdown",
      "source": [
        "## **Paso 3: Calcular proporción de supervivientes por clase**\n",
        "Exploramos el impacto de la clase social en la supervivencia."
      ],
      "metadata": {
        "id": "jiMUjnVKEA-E"
      }
    },
    {
      "cell_type": "code",
      "source": [
        "# EJECUTA ESTE CÓDIGO PARA ANÁLISIS POR CLASE\n",
        "print(\"🎫 Paso 3: Calculando proporción de supervivientes por clase...\")\n",
        "\n",
        "supervivencia_clase = df.groupby('class')['survived'].mean()\n",
        "print(\"📈 Tasa de supervivencia por clase:\")\n",
        "print(supervivencia_clase)\n",
        "\n",
        "print(f\"\\n🎯 Hallazgos:\")\n",
        "for clase, tasa in supervivencia_clase.items():\n",
        "    print(f\"   - Clase {clase}: {tasa*100:.1f}% sobrevivieron\")"
      ],
      "metadata": {
        "colab": {
          "base_uri": "https://localhost:8080/"
        },
        "id": "dT-QvBThEB-Z",
        "outputId": "63831c5a-0692-4499-ba41-807586050402"
      },
      "execution_count": 3,
      "outputs": [
        {
          "output_type": "stream",
          "name": "stdout",
          "text": [
            "🎫 Paso 3: Calculando proporción de supervivientes por clase...\n",
            "📈 Tasa de supervivencia por clase:\n",
            "class\n",
            "First     0.629630\n",
            "Second    0.472826\n",
            "Third     0.242363\n",
            "Name: survived, dtype: float64\n",
            "\n",
            "🎯 Hallazgos:\n",
            "   - Clase First: 63.0% sobrevivieron\n",
            "   - Clase Second: 47.3% sobrevivieron\n",
            "   - Clase Third: 24.2% sobrevivieron\n"
          ]
        }
      ]
    },
    {
      "cell_type": "markdown",
      "source": [
        "## **Paso 4: Crear gráfico de barras comparativo**\n",
        "Visualizamos las diferencias de supervivencia entre grupos."
      ],
      "metadata": {
        "id": "IX9VRdyAEPRi"
      }
    },
    {
      "cell_type": "code",
      "source": [
        "# EJECUTA ESTE CÓDIGO PARA CREAR GRÁFICO\n",
        "print(\"📊 Paso 4: Creando gráfico de barras comparativo...\")\n",
        "\n",
        "# Configurar el estilo de seaborn\n",
        "sns.set_style(\"whitegrid\")\n",
        "plt.figure(figsize=(12, 5))\n",
        "\n",
        "# Subplot 1: Supervivencia por sexo\n",
        "plt.subplot(1, 2, 1)\n",
        "sns.barplot(x=supervivencia_sexo.index, y=supervivencia_sexo.values, palette=['lightblue', 'coral'])\n",
        "plt.title('Tasa de Supervivencia por Sexo', fontsize=14, fontweight='bold')\n",
        "plt.ylabel('Proporción de Supervivientes')\n",
        "plt.ylim(0, 1)\n",
        "for i, v in enumerate(supervivencia_sexo.values):\n",
        "    plt.text(i, v + 0.02, f'{v:.2f}', ha='center', fontweight='bold')\n",
        "\n",
        "# Subplot 2: Supervivencia por clase\n",
        "plt.subplot(1, 2, 2)\n",
        "sns.barplot(x=supervivencia_clase.index, y=supervivencia_clase.values, palette=['gold', 'silver', 'brown'])\n",
        "plt.title('Tasa de Supervivencia por Clase', fontsize=14, fontweight='bold')\n",
        "plt.ylabel('Proporción de Supervivientes')\n",
        "plt.ylim(0, 1)\n",
        "for i, v in enumerate(supervivencia_clase.values):\n",
        "    plt.text(i, v + 0.02, f'{v:.2f}', ha='center', fontweight='bold')\n",
        "\n",
        "plt.tight_layout()\n",
        "plt.show()"
      ],
      "metadata": {
        "colab": {
          "base_uri": "https://localhost:8080/",
          "height": 344
        },
        "id": "ilxLt-VqES7l",
        "outputId": "29079786-3274-4938-cf61-e8573b497483"
      },
      "execution_count": 4,
      "outputs": [
        {
          "output_type": "stream",
          "name": "stdout",
          "text": [
            "📊 Paso 4: Creando gráfico de barras comparativo...\n"
          ]
        },
        {
          "output_type": "display_data",
          "data": {
            "text/plain": [
              "<Figure size 1200x500 with 2 Axes>"
            ],
            "image/png": "[encoded data removed]"
          },
          "metadata": {}
        }
      ]
    },
    {
      "cell_type": "markdown",
      "source": [
        "## **Paso 5: Análisis combinado (sexo y clase)**\n",
        "Cruzamos variables para descubrir patrones más complejos."
      ],
      "metadata": {
        "id": "hB7ki8nMEeo-"
      }
    },
    {
      "cell_type": "code",
      "source": [
        "# EJECUTA ESTE CÓDIGO PARA ANÁLISIS COMBINADO\n",
        "print(\"🔍 Paso 5: Análisis combinado - Supervivencia por sexo y clase...\")\n",
        "\n",
        "supervivencia_combinada = df.groupby(['sex', 'class'])['survived'].mean().unstack()\n",
        "print(\"📊 Tasa de supervivencia por sexo y clase:\")\n",
        "print(supervivencia_combinada)\n",
        "\n",
        "# Gráfico de calor para visualización combinada\n",
        "plt.figure(figsize=(8, 6))\n",
        "sns.heatmap(supervivencia_combinada, annot=True, cmap='RdYlGn', center=0.5,\n",
        "            fmt='.2f', cbar_kws={'label': 'Tasa de Supervivencia'})\n",
        "plt.title('Tasa de Supervivencia por Sexo y Clase', fontsize=14, fontweight='bold')\n",
        "plt.tight_layout()\n",
        "plt.show()"
      ],
      "metadata": {
        "colab": {
          "base_uri": "https://localhost:8080/",
          "height": 707
        },
        "id": "r_Sk4lADEf_f",
        "outputId": "acd6dd72-aebb-407d-e824-8cf1c48c889d"
      },
      "execution_count": 5,
      "outputs": [
        {
          "output_type": "stream",
          "name": "stdout",
          "text": [
            "🔍 Paso 5: Análisis combinado - Supervivencia por sexo y clase...\n",
            "📊 Tasa de supervivencia por sexo y clase:\n",
            "class      First    Second     Third\n",
            "sex                                 \n",
            "female  0.968085  0.921053  0.500000\n",
            "male    0.368852  0.157407  0.135447\n"
          ]
        },
        {
          "output_type": "display_data",
          "data": {
            "text/plain": [
              "<Figure size 800x600 with 2 Axes>"
            ],
            "image/png": "[encoded data removed]"
          },
          "metadata": {}
        }
      ]
    },
    {
      "cell_type": "markdown",
      "source": [
        "## **Paso 6: Resumen de hallazgos**"
      ],
      "metadata": {
        "id": "vSRYhXjXEqD1"
      }
    },
    {
      "cell_type": "code",
      "source": [
        "# EJECUTA ESTE CÓDIGO PARA RESUMEN FINAL\n",
        "print(\"🎯 Paso 6: Resumen de hallazgos del análisis de supervivencia\")\n",
        "\n",
        "print(\"\\n\" + \"=\"*60)\n",
        "print(\"           RESUMEN - ANÁLISIS DE SUPERVIVENCIA TITANIC\")\n",
        "print(\"=\"*60)\n",
        "\n",
        "print(f\"\\n📊 TASA GENERAL DE SUPERVIVENCIA: {df['survived'].mean()*100:.1f}%\")\n",
        "\n",
        "print(f\"\\n🚻 POR SEXO:\")\n",
        "print(f\"   👩 Mujeres: {supervivencia_sexo['female']*100:.1f}% sobrevivieron\")\n",
        "print(f\"   👨 Hombres: {supervivencia_sexo['male']*100:.1f}% sobrevivieron\")\n",
        "\n",
        "print(f\"\\n🎫 POR CLASE:\")\n",
        "for clase, tasa in supervivencia_clase.items():\n",
        "    print(f\"   🏷️  Clase {clase}: {tasa*100:.1f}% sobrevivieron\")\n",
        "\n",
        "print(f\"\\n💡 HALLazGO CLAVE:\")\n",
        "print(f\"   - Las mujeres tuvieron {supervivencia_sexo['female']/supervivencia_sexo['male']:.1f}x más probabilidades de sobrevivir\")\n",
        "print(f\"   - La clase First tuvo {supervivencia_clase['First']/supervivencia_clase['Third']:.1f}x más probabilidades que Third\")\n",
        "\n",
        "print(f\"\\n✅ DATASET UTILIZADO: Titanic de Seaborn\")\n",
        "print(f\"   - Filas: {df.shape[0]}, Columnas: {df.shape[1]}\")\n",
        "print(f\"   - Cargado con: sns.load_dataset('titanic')\")\n",
        "\n",
        "print(f\"\\n🎉 ¡Reto 3 completado! Análisis de supervivencia finalizado\")\n",
        "print(\"=\"*60)"
      ],
      "metadata": {
        "colab": {
          "base_uri": "https://localhost:8080/"
        },
        "id": "c8-BWs-BErhl",
        "outputId": "dcefe5ae-5ba4-4956-e911-6b4d1ef898f1"
      },
      "execution_count": 6,
      "outputs": [
        {
          "output_type": "stream",
          "name": "stdout",
          "text": [
            "🎯 Paso 6: Resumen de hallazgos del análisis de supervivencia\n",
            "\n",
            "============================================================\n",
            "           RESUMEN - ANÁLISIS DE SUPERVIVENCIA TITANIC\n",
            "============================================================\n",
            "\n",
            "📊 TASA GENERAL DE SUPERVIVENCIA: 38.4%\n",
            "\n",
            "🚻 POR SEXO:\n",
            "   👩 Mujeres: 74.2% sobrevivieron\n",
            "   👨 Hombres: 18.9% sobrevivieron\n",
            "\n",
            "🎫 POR CLASE:\n",
            "   🏷️  Clase First: 63.0% sobrevivieron\n",
            "   🏷️  Clase Second: 47.3% sobrevivieron\n",
            "   🏷️  Clase Third: 24.2% sobrevivieron\n",
            "\n",
            "💡 HALLazGO CLAVE:\n",
            "   - Las mujeres tuvieron 3.9x más probabilidades de sobrevivir\n",
            "   - La clase First tuvo 2.6x más probabilidades que Third\n",
            "\n",
            "✅ DATASET UTILIZADO: Titanic de Seaborn\n",
            "   - Filas: 891, Columnas: 15\n",
            "   - Cargado con: sns.load_dataset('titanic')\n",
            "\n",
            "🎉 ¡Reto 3 completado! Análisis de supervivencia finalizado\n",
            "============================================================\n"
          ]
        }
      ]
    },
    {
      "cell_type": "markdown",
      "source": [
        "## 🎯 **Puntos clave del Reto 3**\n",
        "1. **Datasets embebidos**: Muestra fuentes de datos integradas en librerías\n",
        "2. **Groupby + mean**: Patrón fundamental en análisis de datos\n",
        "3. **Visualización básica**: Primer contacto con gráficos en Python\n",
        "4. **Interpretación de resultados**: Transformar números en insights\n",
        "5. **Análisis multivariable**: Combinar factores (sexo + clase)\n",
        "\n",
        "## Análisis\n",
        "- El análisis revela claramente que tanto el género como la clase social fueron factores determinantes en la supervivencia del Titanic.\n",
        "- Las mujeres tuvieron tasas de supervivencia significativamente más altas que los hombres, especialmente en primera clase, donde más del 96% sobrevivió.\n",
        "- La clase también mostró un gradiente marcado: primera clase (63%), segunda (47%) y tercera (24%).\n",
        "- El análisis combinado demuestra que las mujeres de primera y segunda clase tuvieron las mayores probabilidades de supervivencia, mientras que los hombres de tercera clase enfrentaron el mayor riesgo.\n",
        "- Estas visualizaciones confirman el conocido principio de \"mujeres y niños primero\" y cómo el estatus socioeconómico influyó en las oportunidades de supervivencia durante el desastre."
      ],
      "metadata": {
        "id": "uPzjgxXfE4XG"
      }
    }
  ]
}