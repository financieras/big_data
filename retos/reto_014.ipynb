{
  "nbformat": 4,
  "nbformat_minor": 0,
  "metadata": {
    "colab": {
      "provenance": [],
      "authorship_tag": "ABX9TyNKViTsyu6xgC1ollqkdvLA",
      "include_colab_link": true
    },
    "kernelspec": {
      "name": "python3",
      "display_name": "Python 3"
    },
    "language_info": {
      "name": "python"
    }
  },
  "cells": [
    {
      "cell_type": "markdown",
      "metadata": {
        "id": "view-in-github",
        "colab_type": "text"
      },
      "source": [
        "<a href=\"https://colab.research.google.com/github/financieras/big_data/blob/main/retos/reto_014.ipynb\" target=\"_parent\"><img src=\"https://colab.research.google.com/assets/colab-badge.svg\" alt=\"Open In Colab\"/></a>"
      ]
    },
    {
      "cell_type": "markdown",
      "source": [
        "# **Reto 14. Dataset Tips desde Seaborn**\n",
        "- Carga dataset: `sns.load_dataset('tips')`\n",
        "- Explora estructura y variables con `.info()`\n",
        "- Crea columna 'tip_pct' = (tip / total_bill) * 100\n",
        "- Calcula tip_pct promedio del dataset"
      ],
      "metadata": {
        "id": "9FP24DOojtNk"
      }
    },
    {
      "cell_type": "markdown",
      "source": [],
      "metadata": {
        "id": "6nLaYfd9kCpb"
      }
    }
  ]
}