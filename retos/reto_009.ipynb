{
  "nbformat": 4,
  "nbformat_minor": 0,
  "metadata": {
    "colab": {
      "provenance": [],
      "authorship_tag": "ABX9TyMidt/O+V6I5fkrAiXB3F8k",
      "include_colab_link": true
    },
    "kernelspec": {
      "name": "python3",
      "display_name": "Python 3"
    },
    "language_info": {
      "name": "python"
    }
  },
  "cells": [
    {
      "cell_type": "markdown",
      "metadata": {
        "id": "view-in-github",
        "colab_type": "text"
      },
      "source": [
        "<a href=\"https://colab.research.google.com/github/financieras/big_data/blob/main/retos/reto_009.ipynb\" target=\"_parent\"><img src=\"https://colab.research.google.com/assets/colab-badge.svg\" alt=\"Open In Colab\"/></a>"
      ]
    },
    {
      "cell_type": "markdown",
      "source": [
        "# **Reto 9. Clasificación con regla simple**\n",
        "- Crea regla: si petal_length < 2.5 → setosa, si < 5.0 → versicolor, sino → virginica\n",
        "- Crea nueva columna 'prediccion' con esta regla\n",
        "- Compara con columna 'species' real\n",
        "- Calcula precisión: `(df['prediccion'] == df['species']).mean()`"
      ],
      "metadata": {
        "id": "drC7P2mCcNQm"
      }
    },
    {
      "cell_type": "markdown",
      "source": [
        "# **Resolución del Reto 9**\n",
        "\n",
        "### **Contexto del Dataset Iris**\n",
        "- El dataset Iris contiene **150 muestras** de 3 especies de flores (setosa, versicolor, virginica)\n",
        "- Tiene **4 características medidas**:\n",
        "    - longitud del sépalo\n",
        "    - ancho del sépalo\n",
        "    - longitud del pétalo\n",
        "    - ancho del pétalo\n",
        "- Es el dataset clásico para problemas de clasificación multiclase.\n",
        "- En este reto implementaremos un clasificador simple basado en reglas para el dataset Iris, utilizando únicamente la longitud del pétalo (`petal_length`) para predecir la especie de la flor."
      ],
      "metadata": {
        "id": "CyPnG5h-cd6q"
      }
    },
    {
      "cell_type": "markdown",
      "source": [
        "## **Paso 1: Cargar dataset Iris desde Seaborn**\n",
        "Importamos los datos de Iris que usaremos para nuestro experimento de clasificación."
      ],
      "metadata": {
        "id": "RlQPDJTjlen-"
      }
    },
    {
      "cell_type": "code",
      "source": [
        "# EJECUTA ESTE CÓDIGO PARA CARGAR IRIS\n",
        "print(\"🌸 Paso 1: Cargando dataset Iris...\")\n",
        "import seaborn as sns\n",
        "import pandas as pd\n",
        "\n",
        "df = sns.load_dataset('iris')\n",
        "print(f\"✅ Dataset cargado - Dimensiones: {df.shape}\")\n",
        "df.head()"
      ],
      "metadata": {
        "colab": {
          "base_uri": "https://localhost:8080/",
          "height": 241
        },
        "id": "uqebV6s2libB",
        "outputId": "a9ca156e-2ceb-494b-d7dc-7cd6eac9f0cb"
      },
      "execution_count": 17,
      "outputs": [
        {
          "output_type": "stream",
          "name": "stdout",
          "text": [
            "🌸 Paso 1: Cargando dataset Iris...\n",
            "✅ Dataset cargado - Dimensiones: (150, 5)\n"
          ]
        },
        {
          "output_type": "execute_result",
          "data": {
            "text/plain": [
              "   sepal_length  sepal_width  petal_length  petal_width species\n",
              "0           5.1          3.5           1.4          0.2  setosa\n",
              "1           4.9          3.0           1.4          0.2  setosa\n",
              "2           4.7          3.2           1.3          0.2  setosa\n",
              "3           4.6          3.1           1.5          0.2  setosa\n",
              "4           5.0          3.6           1.4          0.2  setosa"
            ],
            "text/html": [
              "\n",
              "  <div id=\"df-ffd56772-6fea-4a6f-bdcb-b081378f6e3a\" class=\"colab-df-container\">\n",
              "    <div>\n",
              "<style scoped>\n",
              "    .dataframe tbody tr th:only-of-type {\n",
              "        vertical-align: middle;\n",
              "    }\n",
              "\n",
              "    .dataframe tbody tr th {\n",
              "        vertical-align: top;\n",
              "    }\n",
              "\n",
              "    .dataframe thead th {\n",
              "        text-align: right;\n",
              "    }\n",
              "</style>\n",
              "<table border=\"1\" class=\"dataframe\">\n",
              "  <thead>\n",
              "    <tr style=\"text-align: right;\">\n",
              "      <th></th>\n",
              "      <th>sepal_length</th>\n",
              "      <th>sepal_width</th>\n",
              "      <th>petal_length</th>\n",
              "      <th>petal_width</th>\n",
              "      <th>species</th>\n",
              "    </tr>\n",
              "  </thead>\n",
              "  <tbody>\n",
              "    <tr>\n",
              "      <th>0</th>\n",
              "      <td>5.1</td>\n",
              "      <td>3.5</td>\n",
              "      <td>1.4</td>\n",
              "      <td>0.2</td>\n",
              "      <td>setosa</td>\n",
              "    </tr>\n",
              "    <tr>\n",
              "      <th>1</th>\n",
              "      <td>4.9</td>\n",
              "      <td>3.0</td>\n",
              "      <td>1.4</td>\n",
              "      <td>0.2</td>\n",
              "      <td>setosa</td>\n",
              "    </tr>\n",
              "    <tr>\n",
              "      <th>2</th>\n",
              "      <td>4.7</td>\n",
              "      <td>3.2</td>\n",
              "      <td>1.3</td>\n",
              "      <td>0.2</td>\n",
              "      <td>setosa</td>\n",
              "    </tr>\n",
              "    <tr>\n",
              "      <th>3</th>\n",
              "      <td>4.6</td>\n",
              "      <td>3.1</td>\n",
              "      <td>1.5</td>\n",
              "      <td>0.2</td>\n",
              "      <td>setosa</td>\n",
              "    </tr>\n",
              "    <tr>\n",
              "      <th>4</th>\n",
              "      <td>5.0</td>\n",
              "      <td>3.6</td>\n",
              "      <td>1.4</td>\n",
              "      <td>0.2</td>\n",
              "      <td>setosa</td>\n",
              "    </tr>\n",
              "  </tbody>\n",
              "</table>\n",
              "</div>\n",
              "    <div class=\"colab-df-buttons\">\n",
              "\n",
              "  <div class=\"colab-df-container\">\n",
              "    <button class=\"colab-df-convert\" onclick=\"convertToInteractive('df-ffd56772-6fea-4a6f-bdcb-b081378f6e3a')\"\n",
              "            title=\"Convert this dataframe to an interactive table.\"\n",
              "            style=\"display:none;\">\n",
              "\n",
              "  <svg xmlns=\"http://www.w3.org/2000/svg\" height=\"24px\" viewBox=\"0 -960 960 960\">\n",
              "    <path d=\"M120-120v-720h720v720H120Zm60-500h600v-160H180v160Zm220 220h160v-160H400v160Zm0 220h160v-160H400v160ZM180-400h160v-160H180v160Zm440 0h160v-160H620v160ZM180-180h160v-160H180v160Zm440 0h160v-160H620v160Z\"/>\n",
              "  </svg>\n",
              "    </button>\n",
              "\n",
              "  <style>\n",
              "    .colab-df-container {\n",
              "      display:flex;\n",
              "      gap: 12px;\n",
              "    }\n",
              "\n",
              "    .colab-df-convert {\n",
              "      background-color: #E8F0FE;\n",
              "      border: none;\n",
              "      border-radius: 50%;\n",
              "      cursor: pointer;\n",
              "      display: none;\n",
              "      fill: #1967D2;\n",
              "      height: 32px;\n",
              "      padding: 0 0 0 0;\n",
              "      width: 32px;\n",
              "    }\n",
              "\n",
              "    .colab-df-convert:hover {\n",
              "      background-color: #E2EBFA;\n",
              "      box-shadow: 0px 1px 2px rgba(60, 64, 67, 0.3), 0px 1px 3px 1px rgba(60, 64, 67, 0.15);\n",
              "      fill: #174EA6;\n",
              "    }\n",
              "\n",
              "    .colab-df-buttons div {\n",
              "      margin-bottom: 4px;\n",
              "    }\n",
              "\n",
              "    [theme=dark] .colab-df-convert {\n",
              "      background-color: #3B4455;\n",
              "      fill: #D2E3FC;\n",
              "    }\n",
              "\n",
              "    [theme=dark] .colab-df-convert:hover {\n",
              "      background-color: #434B5C;\n",
              "      box-shadow: 0px 1px 3px 1px rgba(0, 0, 0, 0.15);\n",
              "      filter: drop-shadow(0px 1px 2px rgba(0, 0, 0, 0.3));\n",
              "      fill: #FFFFFF;\n",
              "    }\n",
              "  </style>\n",
              "\n",
              "    <script>\n",
              "      const buttonEl =\n",
              "        document.querySelector('#df-ffd56772-6fea-4a6f-bdcb-b081378f6e3a button.colab-df-convert');\n",
              "      buttonEl.style.display =\n",
              "        google.colab.kernel.accessAllowed ? 'block' : 'none';\n",
              "\n",
              "      async function convertToInteractive(key) {\n",
              "        const element = document.querySelector('#df-ffd56772-6fea-4a6f-bdcb-b081378f6e3a');\n",
              "        const dataTable =\n",
              "          await google.colab.kernel.invokeFunction('convertToInteractive',\n",
              "                                                    [key], {});\n",
              "        if (!dataTable) return;\n",
              "\n",
              "        const docLinkHtml = 'Like what you see? Visit the ' +\n",
              "          '<a target=\"_blank\" href=https://colab.research.google.com/notebooks/data_table.ipynb>data table notebook</a>'\n",
              "          + ' to learn more about interactive tables.';\n",
              "        element.innerHTML = '';\n",
              "        dataTable['output_type'] = 'display_data';\n",
              "        await google.colab.output.renderOutput(dataTable, element);\n",
              "        const docLink = document.createElement('div');\n",
              "        docLink.innerHTML = docLinkHtml;\n",
              "        element.appendChild(docLink);\n",
              "      }\n",
              "    </script>\n",
              "  </div>\n",
              "\n",
              "\n",
              "    <div id=\"df-cf127050-2088-4b2d-95a8-762415492275\">\n",
              "      <button class=\"colab-df-quickchart\" onclick=\"quickchart('df-cf127050-2088-4b2d-95a8-762415492275')\"\n",
              "                title=\"Suggest charts\"\n",
              "                style=\"display:none;\">\n",
              "\n",
              "<svg xmlns=\"http://www.w3.org/2000/svg\" height=\"24px\"viewBox=\"0 0 24 24\"\n",
              "     width=\"24px\">\n",
              "    <g>\n",
              "        <path d=\"M19 3H5c-1.1 0-2 .9-2 2v14c0 1.1.9 2 2 2h14c1.1 0 2-.9 2-2V5c0-1.1-.9-2-2-2zM9 17H7v-7h2v7zm4 0h-2V7h2v10zm4 0h-2v-4h2v4z\"/>\n",
              "    </g>\n",
              "</svg>\n",
              "      </button>\n",
              "\n",
              "<style>\n",
              "  .colab-df-quickchart {\n",
              "      --bg-color: #E8F0FE;\n",
              "      --fill-color: #1967D2;\n",
              "      --hover-bg-color: #E2EBFA;\n",
              "      --hover-fill-color: #174EA6;\n",
              "      --disabled-fill-color: #AAA;\n",
              "      --disabled-bg-color: #DDD;\n",
              "  }\n",
              "\n",
              "  [theme=dark] .colab-df-quickchart {\n",
              "      --bg-color: #3B4455;\n",
              "      --fill-color: #D2E3FC;\n",
              "      --hover-bg-color: #434B5C;\n",
              "      --hover-fill-color: #FFFFFF;\n",
              "      --disabled-bg-color: #3B4455;\n",
              "      --disabled-fill-color: #666;\n",
              "  }\n",
              "\n",
              "  .colab-df-quickchart {\n",
              "    background-color: var(--bg-color);\n",
              "    border: none;\n",
              "    border-radius: 50%;\n",
              "    cursor: pointer;\n",
              "    display: none;\n",
              "    fill: var(--fill-color);\n",
              "    height: 32px;\n",
              "    padding: 0;\n",
              "    width: 32px;\n",
              "  }\n",
              "\n",
              "  .colab-df-quickchart:hover {\n",
              "    background-color: var(--hover-bg-color);\n",
              "    box-shadow: 0 1px 2px rgba(60, 64, 67, 0.3), 0 1px 3px 1px rgba(60, 64, 67, 0.15);\n",
              "    fill: var(--button-hover-fill-color);\n",
              "  }\n",
              "\n",
              "  .colab-df-quickchart-complete:disabled,\n",
              "  .colab-df-quickchart-complete:disabled:hover {\n",
              "    background-color: var(--disabled-bg-color);\n",
              "    fill: var(--disabled-fill-color);\n",
              "    box-shadow: none;\n",
              "  }\n",
              "\n",
              "  .colab-df-spinner {\n",
              "    border: 2px solid var(--fill-color);\n",
              "    border-color: transparent;\n",
              "    border-bottom-color: var(--fill-color);\n",
              "    animation:\n",
              "      spin 1s steps(1) infinite;\n",
              "  }\n",
              "\n",
              "  @keyframes spin {\n",
              "    0% {\n",
              "      border-color: transparent;\n",
              "      border-bottom-color: var(--fill-color);\n",
              "      border-left-color: var(--fill-color);\n",
              "    }\n",
              "    20% {\n",
              "      border-color: transparent;\n",
              "      border-left-color: var(--fill-color);\n",
              "      border-top-color: var(--fill-color);\n",
              "    }\n",
              "    30% {\n",
              "      border-color: transparent;\n",
              "      border-left-color: var(--fill-color);\n",
              "      border-top-color: var(--fill-color);\n",
              "      border-right-color: var(--fill-color);\n",
              "    }\n",
              "    40% {\n",
              "      border-color: transparent;\n",
              "      border-right-color: var(--fill-color);\n",
              "      border-top-color: var(--fill-color);\n",
              "    }\n",
              "    60% {\n",
              "      border-color: transparent;\n",
              "      border-right-color: var(--fill-color);\n",
              "    }\n",
              "    80% {\n",
              "      border-color: transparent;\n",
              "      border-right-color: var(--fill-color);\n",
              "      border-bottom-color: var(--fill-color);\n",
              "    }\n",
              "    90% {\n",
              "      border-color: transparent;\n",
              "      border-bottom-color: var(--fill-color);\n",
              "    }\n",
              "  }\n",
              "</style>\n",
              "\n",
              "      <script>\n",
              "        async function quickchart(key) {\n",
              "          const quickchartButtonEl =\n",
              "            document.querySelector('#' + key + ' button');\n",
              "          quickchartButtonEl.disabled = true;  // To prevent multiple clicks.\n",
              "          quickchartButtonEl.classList.add('colab-df-spinner');\n",
              "          try {\n",
              "            const charts = await google.colab.kernel.invokeFunction(\n",
              "                'suggestCharts', [key], {});\n",
              "          } catch (error) {\n",
              "            console.error('Error during call to suggestCharts:', error);\n",
              "          }\n",
              "          quickchartButtonEl.classList.remove('colab-df-spinner');\n",
              "          quickchartButtonEl.classList.add('colab-df-quickchart-complete');\n",
              "        }\n",
              "        (() => {\n",
              "          let quickchartButtonEl =\n",
              "            document.querySelector('#df-cf127050-2088-4b2d-95a8-762415492275 button');\n",
              "          quickchartButtonEl.style.display =\n",
              "            google.colab.kernel.accessAllowed ? 'block' : 'none';\n",
              "        })();\n",
              "      </script>\n",
              "    </div>\n",
              "\n",
              "    </div>\n",
              "  </div>\n"
            ],
            "application/vnd.google.colaboratory.intrinsic+json": {
              "type": "dataframe",
              "variable_name": "df",
              "summary": "{\n  \"name\": \"df\",\n  \"rows\": 150,\n  \"fields\": [\n    {\n      \"column\": \"sepal_length\",\n      \"properties\": {\n        \"dtype\": \"number\",\n        \"std\": 0.8280661279778629,\n        \"min\": 4.3,\n        \"max\": 7.9,\n        \"num_unique_values\": 35,\n        \"samples\": [\n          6.2,\n          4.5,\n          5.6\n        ],\n        \"semantic_type\": \"\",\n        \"description\": \"\"\n      }\n    },\n    {\n      \"column\": \"sepal_width\",\n      \"properties\": {\n        \"dtype\": \"number\",\n        \"std\": 0.435866284936698,\n        \"min\": 2.0,\n        \"max\": 4.4,\n        \"num_unique_values\": 23,\n        \"samples\": [\n          2.3,\n          4.0,\n          3.5\n        ],\n        \"semantic_type\": \"\",\n        \"description\": \"\"\n      }\n    },\n    {\n      \"column\": \"petal_length\",\n      \"properties\": {\n        \"dtype\": \"number\",\n        \"std\": 1.7652982332594667,\n        \"min\": 1.0,\n        \"max\": 6.9,\n        \"num_unique_values\": 43,\n        \"samples\": [\n          6.7,\n          3.8,\n          3.7\n        ],\n        \"semantic_type\": \"\",\n        \"description\": \"\"\n      }\n    },\n    {\n      \"column\": \"petal_width\",\n      \"properties\": {\n        \"dtype\": \"number\",\n        \"std\": 0.7622376689603465,\n        \"min\": 0.1,\n        \"max\": 2.5,\n        \"num_unique_values\": 22,\n        \"samples\": [\n          0.2,\n          1.2,\n          1.3\n        ],\n        \"semantic_type\": \"\",\n        \"description\": \"\"\n      }\n    },\n    {\n      \"column\": \"species\",\n      \"properties\": {\n        \"dtype\": \"category\",\n        \"num_unique_values\": 3,\n        \"samples\": [\n          \"setosa\",\n          \"versicolor\",\n          \"virginica\"\n        ],\n        \"semantic_type\": \"\",\n        \"description\": \"\"\n      }\n    }\n  ]\n}"
            }
          },
          "metadata": {},
          "execution_count": 17
        }
      ]
    },
    {
      "cell_type": "markdown",
      "source": [
        "## **Paso 2: Crear regla de clasificación basada en petal_length**\n",
        "Implementamos la regla de decisión especificada en el reto."
      ],
      "metadata": {
        "id": "KWJbGf8GltOb"
      }
    },
    {
      "cell_type": "code",
      "source": [
        "# EJECUTA ESTE CÓDIGO PARA CREAR LA REGLA DE CLASIFICACIÓN\n",
        "print(\"🎯 Paso 2: Creando regla de clasificación...\")\n",
        "\n",
        "def clasificar_por_petalo(petal_length):\n",
        "    if petal_length < 2.5:\n",
        "        return 'setosa'\n",
        "    elif petal_length < 5.0:\n",
        "        return 'versicolor'\n",
        "    else:\n",
        "        return 'virginica'\n",
        "\n",
        "# Aplicar la regla a cada fila del dataset\n",
        "df['prediccion'] = df['petal_length'].apply(clasificar_por_petalo)\n",
        "\n",
        "print(\"✅ Regla aplicada - Primera verificación:\")\n",
        "print(df[['species', 'petal_length', 'prediccion']].head(10))"
      ],
      "metadata": {
        "colab": {
          "base_uri": "https://localhost:8080/"
        },
        "id": "IqvNbS5Slyce",
        "outputId": "bb7abfb1-4695-4ee6-b8fe-703fbce951fb"
      },
      "execution_count": 18,
      "outputs": [
        {
          "output_type": "stream",
          "name": "stdout",
          "text": [
            "🎯 Paso 2: Creando regla de clasificación...\n",
            "✅ Regla aplicada - Primera verificación:\n",
            "  species  petal_length prediccion\n",
            "0  setosa           1.4     setosa\n",
            "1  setosa           1.4     setosa\n",
            "2  setosa           1.3     setosa\n",
            "3  setosa           1.5     setosa\n",
            "4  setosa           1.4     setosa\n",
            "5  setosa           1.7     setosa\n",
            "6  setosa           1.4     setosa\n",
            "7  setosa           1.5     setosa\n",
            "8  setosa           1.4     setosa\n",
            "9  setosa           1.5     setosa\n"
          ]
        }
      ]
    },
    {
      "cell_type": "markdown",
      "source": [
        "## **Paso 3: Comparar predicciones con valores reales**\n",
        "Analizamos visualmente cómo se comparan nuestras predicciones con las especies reales."
      ],
      "metadata": {
        "id": "LJnI2F0hl4Ix"
      }
    },
    {
      "cell_type": "code",
      "source": [
        "# EJECUTA ESTE CÓDIGO PARA COMPARAR PREDICCIONES\n",
        "print(\"🔍 Paso 3: Comparando predicciones con valores reales...\")\n",
        "\n",
        "# Crear tabla de comparación\n",
        "comparacion = df[['species', 'prediccion']].copy()\n",
        "comparacion['correcto'] = comparacion['species'] == comparacion['prediccion']\n",
        "\n",
        "print(\"📊 Muestra de comparaciones:\")\n",
        "print(comparacion.head(15))\n",
        "\n",
        "print(f\"\\n📈 Resumen de aciertos:\")\n",
        "print(comparacion['correcto'].value_counts())"
      ],
      "metadata": {
        "colab": {
          "base_uri": "https://localhost:8080/"
        },
        "id": "S45m0NV9l5pU",
        "outputId": "1847b31c-22ca-4b72-ef61-ad962a1466f6"
      },
      "execution_count": 19,
      "outputs": [
        {
          "output_type": "stream",
          "name": "stdout",
          "text": [
            "🔍 Paso 3: Comparando predicciones con valores reales...\n",
            "📊 Muestra de comparaciones:\n",
            "   species prediccion  correcto\n",
            "0   setosa     setosa      True\n",
            "1   setosa     setosa      True\n",
            "2   setosa     setosa      True\n",
            "3   setosa     setosa      True\n",
            "4   setosa     setosa      True\n",
            "5   setosa     setosa      True\n",
            "6   setosa     setosa      True\n",
            "7   setosa     setosa      True\n",
            "8   setosa     setosa      True\n",
            "9   setosa     setosa      True\n",
            "10  setosa     setosa      True\n",
            "11  setosa     setosa      True\n",
            "12  setosa     setosa      True\n",
            "13  setosa     setosa      True\n",
            "14  setosa     setosa      True\n",
            "\n",
            "📈 Resumen de aciertos:\n",
            "correcto\n",
            "True     142\n",
            "False      8\n",
            "Name: count, dtype: int64\n"
          ]
        }
      ]
    },
    {
      "cell_type": "markdown",
      "source": [
        "## **Paso 4: Calcular precisión del clasificador**\n",
        "Calculamos la métrica de precisión para evaluar el rendimiento de nuestra regla simple."
      ],
      "metadata": {
        "id": "wnJUEKx7l_Ko"
      }
    },
    {
      "cell_type": "code",
      "source": [
        "# EJECUTA ESTE CÓDIGO PARA CALCULAR PRECISIÓN\n",
        "print(\"📏 Paso 4: Calculando precisión del clasificador...\")\n",
        "\n",
        "precision = (df['prediccion'] == df['species']).mean()\n",
        "print(f\"🎯 Precisión del clasificador: {precision:.2%}\")\n",
        "\n",
        "# Detalle por especie\n",
        "print(f\"\\n📊 Precisión por especie:\")\n",
        "for especie in df['species'].unique():\n",
        "    mask = df['species'] == especie\n",
        "    precision_especie = (df.loc[mask, 'prediccion'] == df.loc[mask, 'species']).mean()\n",
        "    print(f\"   {especie}: {precision_especie:.2%}\")"
      ],
      "metadata": {
        "colab": {
          "base_uri": "https://localhost:8080/"
        },
        "id": "0TpIlaxUmCG3",
        "outputId": "c7aa74a1-9066-4a46-8835-41453ec2f9ba"
      },
      "execution_count": 20,
      "outputs": [
        {
          "output_type": "stream",
          "name": "stdout",
          "text": [
            "📏 Paso 4: Calculando precisión del clasificador...\n",
            "🎯 Precisión del clasificador: 94.67%\n",
            "\n",
            "📊 Precisión por especie:\n",
            "   setosa: 100.00%\n",
            "   versicolor: 96.00%\n",
            "   virginica: 88.00%\n"
          ]
        }
      ]
    },
    {
      "cell_type": "markdown",
      "source": [
        "## **Paso 5: Análisis de los errores de clasificación**\n",
        "Identificamos y analizamos los casos donde nuestra regla falló."
      ],
      "metadata": {
        "id": "T8JaxV8rmKLX"
      }
    },
    {
      "cell_type": "code",
      "source": [
        "# EJECUTA ESTE CÓDIGO PARA ANALIZAR ERRORES\n",
        "print(\"❌ Paso 5: Analizando errores de clasificación...\")\n",
        "\n",
        "errores = df[df['prediccion'] != df['species']]\n",
        "print(f\"📉 Número de errores: {len(errores)}\")\n",
        "print(f\"📈 Tasa de error: {len(errores)/len(df):.2%}\")\n",
        "\n",
        "if len(errores) > 0:\n",
        "    print(\"\\n🔍 Detalle de errores:\")\n",
        "    print(errores[['species', 'petal_length', 'prediccion']])\n",
        "\n",
        "    # Análisis de rangos problemáticos\n",
        "    print(f\"\\n📊 Rango de petal_length en errores: {errores['petal_length'].min():.2f} - {errores['petal_length'].max():.2f}\")"
      ],
      "metadata": {
        "colab": {
          "base_uri": "https://localhost:8080/"
        },
        "id": "kbVIG54amOb0",
        "outputId": "a7ad4f4b-38a2-4e6f-8c2a-8414d2265f06"
      },
      "execution_count": 21,
      "outputs": [
        {
          "output_type": "stream",
          "name": "stdout",
          "text": [
            "❌ Paso 5: Analizando errores de clasificación...\n",
            "📉 Número de errores: 8\n",
            "📈 Tasa de error: 5.33%\n",
            "\n",
            "🔍 Detalle de errores:\n",
            "        species  petal_length  prediccion\n",
            "77   versicolor           5.0   virginica\n",
            "83   versicolor           5.1   virginica\n",
            "106   virginica           4.5  versicolor\n",
            "121   virginica           4.9  versicolor\n",
            "123   virginica           4.9  versicolor\n",
            "126   virginica           4.8  versicolor\n",
            "127   virginica           4.9  versicolor\n",
            "138   virginica           4.8  versicolor\n",
            "\n",
            "📊 Rango de petal_length en errores: 4.50 - 5.10\n"
          ]
        }
      ]
    },
    {
      "cell_type": "markdown",
      "source": [
        "## **Paso 6: Visualización de la regla de decisión**\n",
        "Creamos una visualización para entender mejor cómo funciona nuestra regla."
      ],
      "metadata": {
        "id": "r5oJO1NDmYgY"
      }
    },
    {
      "cell_type": "code",
      "source": [
        "# EJECUTA ESTE CÓDIGO PARA VISUALIZAR LA REGLA\n",
        "print(\"📊 Paso 6: Visualizando la regla de decisión...\")\n",
        "import matplotlib.pyplot as plt\n",
        "\n",
        "plt.figure(figsize=(10, 6))\n",
        "\n",
        "# Crear scatter plot coloreado por especie real\n",
        "colors = {'setosa': 'red', 'versicolor': 'blue', 'virginica': 'green'}\n",
        "marker_types = {'setosa': 'o', 'versicolor': 's', 'virginica': '^'}\n",
        "\n",
        "for especie in df['species'].unique():\n",
        "    subset = df[df['species'] == especie]\n",
        "    plt.scatter(subset['petal_length'], subset['petal_width'],\n",
        "                c=colors[especie], marker=marker_types[especie],\n",
        "                label=especie, alpha=0.7)\n",
        "\n",
        "# Añadir líneas de decisión\n",
        "plt.axvline(x=2.5, color='black', linestyle='--', alpha=0.7, label='Límite setosa/versicolor')\n",
        "plt.axvline(x=5.0, color='gray', linestyle='--', alpha=0.7, label='Límite versicolor/virginica')\n",
        "\n",
        "plt.xlabel('Longitud del Pétalo (petal_length)')\n",
        "plt.ylabel('Ancho del Pétalo (petal_width)')\n",
        "plt.title('Regla de Clasificación por Longitud del Pétalo')\n",
        "plt.legend()\n",
        "plt.grid(True, alpha=0.3)\n",
        "plt.show()\n",
        "\n",
        "print(\"✅ Visualización completada\")"
      ],
      "metadata": {
        "colab": {
          "base_uri": "https://localhost:8080/",
          "height": 571
        },
        "id": "reKe7du0mcJI",
        "outputId": "b3b26a01-a5ce-4e47-92b3-c2fe076c8fef"
      },
      "execution_count": 22,
      "outputs": [
        {
          "output_type": "stream",
          "name": "stdout",
          "text": [
            "📊 Paso 6: Visualizando la regla de decisión...\n"
          ]
        },
        {
          "output_type": "display_data",
          "data": {
            "text/plain": [
              "<Figure size 1000x600 with 1 Axes>"
            ],
            "image/png": "[encoded data removed]"
          },
          "metadata": {}
        },
        {
          "output_type": "stream",
          "name": "stdout",
          "text": [
            "✅ Visualización completada\n"
          ]
        }
      ]
    },
    {
      "cell_type": "markdown",
      "source": [
        "## **Paso 7: Resumen final del clasificador**\n",
        "Generamos un reporte completo del rendimiento de nuestra regla simple."
      ],
      "metadata": {
        "id": "cgJml-E5mhez"
      }
    },
    {
      "cell_type": "code",
      "source": [
        "# EJECUTA ESTE CÓDIGO PARA REPORTE FINAL\n",
        "print(\"📋 Paso 7: Reporte final del clasificador\")\n",
        "\n",
        "print(f\"\"\"\n",
        "🎯 RESUMEN DEL CLASIFICADOR POR REGLA SIMPLE\n",
        "\n",
        "📊 Dataset: Iris ({len(df)} observaciones)\n",
        "🎯 Variable utilizada: petal_length\n",
        "📏 Regla de decisión:\n",
        "   - petal_length < 2.5 → setosa\n",
        "   - 2.5 ≤ petal_length < 5.0 → versicolor\n",
        "   - petal_length ≥ 5.0 → virginica\n",
        "\n",
        "📈 Resultados:\n",
        "   ✅ Precisión total: {precision:.2%}\n",
        "   ✅ Aciertos: {(df['prediccion'] == df['species']).sum()}\n",
        "   ❌ Errores: {(df['prediccion'] != df['species']).sum()}\n",
        "\n",
        "🔍 Análisis por especie:\n",
        "\"\"\")\n",
        "\n",
        "for especie in df['species'].unique():\n",
        "    mask = df['species'] == especie\n",
        "    total = mask.sum()\n",
        "    correctos = (df.loc[mask, 'prediccion'] == df.loc[mask, 'species']).sum()\n",
        "    precision_especie = correctos / total\n",
        "\n",
        "    print(f\"   {especie:>10}: {correctos:>2}/{total:>2} correctos → {precision_especie:.2%}\")\n",
        "\n",
        "print(f\"\\n🎉 ¡Reto 9 completado! Clasificador simple implementado con {precision:.2%} de precisión\")"
      ],
      "metadata": {
        "colab": {
          "base_uri": "https://localhost:8080/"
        },
        "id": "z8CqyMd4muO2",
        "outputId": "07d0456c-b73b-4b9f-8583-e60f1ce70c32"
      },
      "execution_count": 23,
      "outputs": [
        {
          "output_type": "stream",
          "name": "stdout",
          "text": [
            "📋 Paso 7: Reporte final del clasificador\n",
            "\n",
            "🎯 RESUMEN DEL CLASIFICADOR POR REGLA SIMPLE\n",
            "\n",
            "📊 Dataset: Iris (150 observaciones)\n",
            "🎯 Variable utilizada: petal_length\n",
            "📏 Regla de decisión:\n",
            "   - petal_length < 2.5 → setosa\n",
            "   - 2.5 ≤ petal_length < 5.0 → versicolor  \n",
            "   - petal_length ≥ 5.0 → virginica\n",
            "\n",
            "📈 Resultados:\n",
            "   ✅ Precisión total: 94.67%\n",
            "   ✅ Aciertos: 142\n",
            "   ❌ Errores: 8\n",
            "\n",
            "🔍 Análisis por especie:\n",
            "\n",
            "       setosa: 50/50 correctos → 100.00%\n",
            "   versicolor: 48/50 correctos → 96.00%\n",
            "    virginica: 44/50 correctos → 88.00%\n",
            "\n",
            "🎉 ¡Reto 9 completado! Clasificador simple implementado con 94.67% de precisión\n"
          ]
        }
      ]
    },
    {
      "cell_type": "markdown",
      "source": [
        "## 🎯 **Puntos clave del Reto 9**\n",
        "\n",
        "Dominamos la implementación de un clasificador basado en reglas simples y evaluamos su rendimiento en el dataset Iris.\n",
        "\n",
        "### **Competencias técnicas adquiridas**\n",
        "1. **Implementación de reglas de decisión**: Creación de funciones de clasificación basadas en umbrales\n",
        "2. **Aplicación de funciones a DataFrames**: Uso de `.apply()` para transformar columnas\n",
        "3. **Evaluación de modelos**: Cálculo de precisión y análisis de errores\n",
        "4. **Análisis por categorías**: Evaluación del rendimiento desglosado por clases\n",
        "5. **Visualización de reglas de decisión**: Representación gráfica de los criterios de clasificación\n",
        "\n",
        "### **Insight obtenido**\n",
        "Este reto demuestra que incluso con una regla extremadamente simple basada en una sola característica (`petal_length`), podemos lograr una precisión notable en la clasificación de flores Iris, lo que subraya la importancia de seleccionar características discriminativas en problemas de machine learning."
      ],
      "metadata": {
        "id": "PBEMO-fDmwKZ"
      }
    }
  ]
}