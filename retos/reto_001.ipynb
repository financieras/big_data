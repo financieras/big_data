{
  "nbformat": 4,
  "nbformat_minor": 0,
  "metadata": {
    "colab": {
      "provenance": [],
      "authorship_tag": "ABX9TyNuZmml/ESDu9MjJbpUugbI",
      "include_colab_link": true
    },
    "kernelspec": {
      "name": "python3",
      "display_name": "Python 3"
    },
    "language_info": {
      "name": "python"
    }
  },
  "cells": [
    {
      "cell_type": "markdown",
      "metadata": {
        "id": "view-in-github",
        "colab_type": "text"
      },
      "source": [
        "<a href=\"https://colab.research.google.com/github/financieras/big_data/blob/main/retos/reto_001.ipynb\" target=\"_parent\"><img src=\"https://colab.research.google.com/assets/colab-badge.svg\" alt=\"Open In Colab\"/></a>"
      ]
    },
    {
      "cell_type": "markdown",
      "source": [
        "# Reto 1. Gestión de archivos en Google Colab\n",
        "- Objetivo: Familiarizarse con la interfaz de Colab y la gestión básica de archivos\n",
        "- Descarga manualmente el dataset `Titanic` desde Kaggle\n",
        "- Sube el archivo manualmente a Google Colab\n",
        "- Carga el dataset usando Pandas\n",
        "- Visualiza las primeras 5 filas con `.head()`\n",
        "- Monta Google Drive y verifica persistencia"
      ],
      "metadata": {
        "id": "z_1HhjYk3Ehx"
      }
    },
    {
      "cell_type": "markdown",
      "source": [
        "# Resolución del Reto 1\n",
        "\n",
        "## Paso 1: Descargar el dataset Titanic desde Kaggle\n",
        "1. Ve a: https://www.kaggle.com/c/titanic/data\n",
        "2. Haz clic en **\"Download\"** (necesitarás cuenta de Kaggle)\n",
        "3. En la carpeta descargada, busca el archivo **`train.csv`**"
      ],
      "metadata": {
        "id": "l8tmRzqy4jaB"
      }
    },
    {
      "cell_type": "markdown",
      "source": [
        "## Paso 2: Subir manualmente a Google Colab\n",
        "```python\n",
        "# En una nueva celda de Colab:\n",
        "from google.colab import files\n",
        "import pandas as pd\n",
        "\n",
        "# Esto abrirá el selector de archivos\n",
        "uploaded = files.upload()\n",
        "```\n",
        "**Acciones:**\n",
        "- Ejecuta la celda\n",
        "- Selecciona el archivo `train.csv` desde tu computadora\n",
        "- Espera a que termine la subida"
      ],
      "metadata": {
        "id": "2hefn1Rl4_X3"
      }
    },
    {
      "cell_type": "markdown",
      "source": [
        "## Paso 3: Cargar el dataset con Pandas\n",
        "```python\n",
        "# Cargar el dataset\n",
        "df = pd.read_csv('train.csv')\n",
        "\n",
        "# Verificar carga exitosa\n",
        "print(\"Dataset cargado correctamente\")\n",
        "print(f\"Dimensiones: {df.shape}\")  # (filas, columnas)\n",
        "```"
      ],
      "metadata": {
        "id": "NWPYl04-5CJh"
      }
    },
    {
      "cell_type": "markdown",
      "source": [
        "## Paso 4: Visualizar primeras 5 filas\n",
        "```python\n",
        "# Mostrar primeras filas\n",
        "df.head()\n",
        "```"
      ],
      "metadata": {
        "id": "j9zAOP165BzW"
      }
    },
    {
      "cell_type": "markdown",
      "source": [
        "## Paso 5: Entender la temporalidad de los archivos\n",
        "```python\n",
        "# Los archivos subidos manualmente se pierden al cerrar la sesión\n",
        "print(\"⚠️  ESTOS ARCHIVOS SE PERDERÁN AL CERRAR COLAB\")\n",
        "```"
      ],
      "metadata": {
        "id": "hmL_e77y5BeP"
      }
    },
    {
      "cell_type": "markdown",
      "source": [
        "## Paso 6: Montar Google Drive para persistencia\n",
        "```python\n",
        "# Montar Google Drive\n",
        "from google.colab import drive\n",
        "drive.mount('/content/drive')\n",
        "\n",
        "# Crear carpeta para el curso (opcional)\n",
        "import os\n",
        "os.makedirs('/content/drive/MyDrive/curso_data', exist_ok=True)\n",
        "```"
      ],
      "metadata": {
        "id": "a4KuevDG5A74"
      }
    },
    {
      "cell_type": "markdown",
      "source": [
        "## Paso 7: Guardar copia en Drive\n",
        "```python\n",
        "# Guardar el dataset en Drive\n",
        "df.to_csv('/content/drive/MyDrive/curso_data/titanic.csv', index=False)\n",
        "print(\"✅ Dataset guardado en Google Drive\")\n",
        "```"
      ],
      "metadata": {
        "id": "SuMN84Om5ATK"
      }
    },
    {
      "cell_type": "markdown",
      "source": [
        "## Paso 8: Verificar persistencia\n",
        "```python\n",
        "# Cargar desde Drive para verificar\n",
        "df_drive = pd.read_csv('/content/drive/MyDrive/curso_data/titanic.csv')\n",
        "\n",
        "# Verificar que son iguales\n",
        "print(\"¿Los datos son idénticos?\", df.equals(df_drive))\n",
        "print(f\"Dimensiones desde Drive: {df_drive.shape}\")\n",
        "df_drive.head()\n",
        "```"
      ],
      "metadata": {
        "id": "AQNVzakH3TeW"
      }
    },
    {
      "cell_type": "code",
      "source": [
        "# 1. Subir archivo manualmente\n",
        "from google.colab import files\n",
        "import pandas as pd\n",
        "import os\n",
        "\n",
        "print(\"📤 Subiendo archivo train.csv...\")\n",
        "uploaded = files.upload()\n",
        "\n",
        "# 2. Cargar y explorar dataset\n",
        "df = pd.read_csv('train.csv')\n",
        "print(f\"✅ Dataset cargado: {df.shape}\")\n",
        "\n",
        "print(\"\\n🔍 Primeras 5 filas:\")\n",
        "display(df.head())\n",
        "\n",
        "# 3. Montar Google Drive para persistencia\n",
        "print(\"\\n🗂️ Montando Google Drive...\")\n",
        "from google.colab import drive\n",
        "drive.mount('/content/drive')\n",
        "\n",
        "# 4. Guardar copia en Drive\n",
        "drive_path = '/content/drive/MyDrive/curso_data/titanic.csv'\n",
        "os.makedirs('/content/drive/MyDrive/curso_data', exist_ok=True)\n",
        "df.to_csv(drive_path, index=False)\n",
        "print(\"💾 Copia guardada en Google Drive\")\n",
        "\n",
        "# 5. Verificar persistencia\n",
        "df_drive = pd.read_csv(drive_path)\n",
        "print(f\"📊 Verificación - Dimensiones: {df_drive.shape}\")\n",
        "print(\"🎉 Reto 1 completado exitosamente!\")"
      ],
      "metadata": {
        "id": "HSW_wAhw4WQw"
      },
      "execution_count": null,
      "outputs": []
    }
  ]
}