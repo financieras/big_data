{
  "nbformat": 4,
  "nbformat_minor": 0,
  "metadata": {
    "colab": {
      "provenance": [],
      "authorship_tag": "ABX9TyM5dVU53lGgfH4fnmrfged1",
      "include_colab_link": true
    },
    "kernelspec": {
      "name": "python3",
      "display_name": "Python 3"
    },
    "language_info": {
      "name": "python"
    }
  },
  "cells": [
    {
      "cell_type": "markdown",
      "metadata": {
        "id": "view-in-github",
        "colab_type": "text"
      },
      "source": [
        "<a href=\"https://colab.research.google.com/github/financieras/big_data/blob/main/retos/reto_001.ipynb\" target=\"_parent\"><img src=\"https://colab.research.google.com/assets/colab-badge.svg\" alt=\"Open In Colab\"/></a>"
      ]
    },
    {
      "cell_type": "markdown",
      "source": [
        "# Reto 1. Gestión de archivos en Google Colab\n",
        "- Objetivo: Familiarizarse con la interfaz de Colab y la gestión básica de archivos\n",
        "- Descarga manualmente el dataset `Titanic` desde Kaggle\n",
        "- Sube el archivo manualmente a Google Colab\n",
        "- Carga el dataset usando Pandas\n",
        "- Visualiza las primeras 5 filas con `.head()`\n",
        "- Monta Google Drive y verifica persistencia"
      ],
      "metadata": {
        "id": "z_1HhjYk3Ehx"
      }
    },
    {
      "cell_type": "markdown",
      "source": [],
      "metadata": {
        "id": "AQNVzakH3TeW"
      }
    }
  ]
}