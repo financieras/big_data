{
  "nbformat": 4,
  "nbformat_minor": 0,
  "metadata": {
    "colab": {
      "provenance": [],
      "authorship_tag": "ABX9TyM+wtdAYNujosSLNPUSTol/",
      "include_colab_link": true
    },
    "kernelspec": {
      "name": "python3",
      "display_name": "Python 3"
    },
    "language_info": {
      "name": "python"
    }
  },
  "cells": [
    {
      "cell_type": "markdown",
      "metadata": {
        "id": "view-in-github",
        "colab_type": "text"
      },
      "source": [
        "<a href=\"https://colab.research.google.com/github/financieras/big_data/blob/main/solucion_reto1.ipynb\" target=\"_parent\"><img src=\"https://colab.research.google.com/assets/colab-badge.svg\" alt=\"Open In Colab\"/></a>"
      ]
    },
    {
      "cell_type": "markdown",
      "source": [
        "# Reto 1. Gestión de archivos en Google Colab\n",
        "- Objetivo: Familiarizarse con la interfaz de Colab y la gestión básica de archivos\n",
        "- Descarga manualmente el dataset Titanic desde Kaggle:\n",
        "  * Ve a https://www.kaggle.com/c/titanic/data\n",
        "  * Descarga `train.csv` a tu computadora\n",
        "- Sube el archivo manualmente a Google Colab usando el ícono de carpeta\n",
        "- Carga el dataset usando Pandas: `df = pd.read_csv('train.csv')`\n",
        "- Visualiza las primeras 5 filas con `.head()`\n",
        "- Entiende que los archivos subidos manualmente se pierden al cerrar la sesión\n",
        "- Monta Google Drive en Colab y guarda una copia del dataset allí\n",
        "- Carga el archivo desde Drive y verifica la persistencia\n"
      ],
      "metadata": {
        "id": "TyCRRGZG6pAv"
      }
    },
    {
      "cell_type": "markdown",
      "source": [
        "## Solución"
      ],
      "metadata": {
        "id": "rdU6w4j5Rjk0"
      }
    }
  ]
}