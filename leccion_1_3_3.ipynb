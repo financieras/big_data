{
  "nbformat": 4,
  "nbformat_minor": 0,
  "metadata": {
    "colab": {
      "provenance": [],
      "authorship_tag": "ABX9TyMQeqyXs9t12KEtsk0Iundq",
      "include_colab_link": true
    },
    "kernelspec": {
      "name": "python3",
      "display_name": "Python 3"
    },
    "language_info": {
      "name": "python"
    }
  },
  "cells": [
    {
      "cell_type": "markdown",
      "metadata": {
        "id": "view-in-github",
        "colab_type": "text"
      },
      "source": [
        "<a href=\"https://colab.research.google.com/github/financieras/big_data/blob/main/leccion_1_3_3.ipynb\" target=\"_parent\"><img src=\"https://colab.research.google.com/assets/colab-badge.svg\" alt=\"Open In Colab\"/></a>"
      ]
    },
    {
      "cell_type": "markdown",
      "source": [
        "# Lección 1.3.3: Análisis y Reporte con Excel: Pivot Tables y Visualización\n",
        "\n",
        "## 1. Pivot Tables: El Motor del Resumen de Datos\n",
        "\n",
        "Las **Pivot Tables** (Tablas Dinámicas) son la herramienta más potente de Excel para el analista de datos. Su función principal es **resumir, agregar y transformar rápidamente grandes volúmenes de datos** en información útil para la toma de decisiones.\n",
        "\n",
        "### 1.1. ¿Qué es una Pivot Table?\n",
        "Es una herramienta que te permite **pivotar** (girar o reordenar) los datos. Convierte filas de datos transaccionales en una matriz de resumen, permitiendo ver métricas clave por diferentes categorías.\n",
        "\n",
        "> **Analogía:** Si en SQL usas `GROUP BY` y funciones de agregación (`SUM`, `AVERAGE`), la **Pivot Table** te permite hacer lo mismo de forma visual y con **arrastrar y soltar**.\n",
        "\n",
        "### 1.2. Los Cuatro Pilares del Análisis\n",
        "Toda **Pivot Table** se construye en torno a estas cuatro áreas de configuración:\n",
        "\n",
        "| Área (EN) | Propósito | Ejemplo en un Análisis de Ventas |\n",
        "| :--- | :--- | :--- |\n",
        "| **Filters** | Segmentar o reducir el conjunto de datos de forma interactiva. | Ver solo las ventas del año \"2024\". |\n",
        "| **Rows** | Define la **primera dimensión** a agrupar. | Agrupar los datos por `Region`. |\n",
        "| **Columns** | Define la **segunda dimensión** a agrupar. | Agrupar los datos por `Month`. |\n",
        "| **Values** | La **métrica** que se va a calcular (e.g., `SUM`, `AVERAGE`, `COUNT`). | Calcular la `SUM of Sales Amount`. |\n",
        "\n",
        "### 1.3. Profundizando: Cálculo y Formato\n",
        "Una vez creada la tabla, se puede ir más allá de la simple suma:\n",
        "\n",
        "1.  **Cálculos Avanzados:** En lugar de mostrar el `SUM` (Suma), puedes configurarla para mostrar el valor como **% of Grand Total** (Porcentaje del Total General) o **Difference From** (Diferencia respecto al periodo anterior).\n",
        "2.  **Agrupamiento:** Agrupar campos de fecha automáticamente por `Years`, `Quarters` o `Months` para ver tendencias rápidamente.\n",
        "3.  **Calculated Fields:** Crear nuevas métricas (e.g., *Gross Margin = Revenue - Cost*) directamente en la **Pivot Table** sin modificar la fuente de datos original.\n",
        "\n",
        "---\n",
        "\n",
        "## 2. Visualización: Contando Historias con Gráficos\n",
        "\n",
        "Los números por sí solos no comunican impacto. La visualización transforma los datos agregados en **historias accionables**.\n",
        "\n",
        "### 2.1. El Gráfico Adecuado para el Mensaje\n",
        "Elegir el tipo de gráfico correcto es fundamental para evitar malentendidos:\n",
        "\n",
        "| Si quieres mostrar... | Usa un gráfico de... | Evita usar... |\n",
        "| :--- | :--- | :--- |\n",
        "| **Tendencia a lo largo del tiempo** | **Line Chart** (Líneas) | Barras (si hay muchos puntos en el tiempo). |\n",
        "| **Comparación entre categorías** | **Bar Chart** (Barras) o **Column Chart** (Columnas) | Gráficos Circulares (si hay más de 5 categorías). |\n",
        "| **Composición de un Total** | **Pie Chart** (Circular) o **Doughnut Chart** (Anillo). | Gráficos 3D. |\n",
        "\n",
        "### 2.2. De la Tabla al Gráfico Dinámico\n",
        "La forma más efectiva de visualizar los datos resumidos es vinculando el gráfico a una **Pivot Table**:\n",
        "\n",
        "-   **Pivot Chart (Gráfico Dinámico):** Al insertar un gráfico desde una **Pivot Table**, este se actualizará automáticamente cada vez que apliques filtros o cambies las dimensiones de tu tabla. Esto es la base para crear un **Dashboard**.\n",
        "\n",
        "---\n",
        "\n",
        "## 3. Elementos de Reporte Interactivo y Estético\n",
        "\n",
        "Un reporte no solo debe ser correcto, sino también claro y fácil de interpretar.\n",
        "\n",
        "### 3.1. Slicers (Segmentación de Datos)\n",
        "Son botones visuales que actúan como **filtros interactivos** y se conectan a una o varias **Pivot Tables**.\n",
        "\n",
        "-   **Ventaja:** Permiten al usuario final filtrar el reporte con un solo clic sin tener que manipular los campos de filtro de la **Pivot Table**. Se usan mucho para la selección de fechas, productos o categorías principales.\n",
        "\n",
        "### 3.2. Conditional Formatting (Formato Condicional)\n",
        "Se usa para resaltar o detectar anomalías. Aplica formato (color, barras de datos o íconos) a las celdas en función de su valor.\n",
        "\n",
        "-   **Uso:** Marcar los valores que están por debajo o por encima de un promedio, o usar escalas de color para mostrar la intensidad de una métrica clave.\n",
        "\n",
        "### 3.3. Sparklines (Mini-Gráficos)\n",
        "Pequeños gráficos (de línea o columna) que se insertan **dentro de una sola celda**.\n",
        "\n",
        "-   **Propósito:** Ofrecer una visualización rápida de la **tendencia** de una métrica a lo largo de un periodo de tiempo, sin ocupar espacio.\n",
        "\n",
        "> **El Takeaway:** Las **Pivot Tables** y la Visualización no son el fin, sino la herramienta para **comunicar el valor** extraído de los datos. Un análisis no es útil hasta que se convierte en una decisión.\n",
        "\n",
        "---\n",
        "\n",
        "## 4. Apéndice: Correspondencia de Herramientas y Funciones (EN 🡢 ES)\n",
        "\n",
        "| Herramienta / Función en Inglés (EN) | Herramienta / Función en Español (ES) |\n",
        "| :--- | :--- |\n",
        "| **Pivot Table** | **Tabla Dinámica** |\n",
        "| **Pivot Chart** | **Gráfico Dinámico** |\n",
        "| **Slicers** | **Segmentación de Datos** |\n",
        "| **Conditional Formatting** | **Formato Condicional** |\n",
        "| **Sparklines** | **Mini-Gráficos** |\n",
        "| **Calculated Field** | **Campo Calculado** |\n",
        "| **SUM** | **SUMA** |\n",
        "| **COUNT** | **CONTAR** |\n",
        "| **AVERAGE** | **PROMEDIO** |\n",
        "| **% of Grand Total** | **% del Total General** |\n",
        "| **Difference From** | **Diferencia de** |"
      ],
      "metadata": {
        "id": "PltctYdx8Lz4"
      }
    }
  ]
}