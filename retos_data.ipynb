{
  "nbformat": 4,
  "nbformat_minor": 0,
  "metadata": {
    "colab": {
      "provenance": [],
      "authorship_tag": "ABX9TyPLmlE/kIgB1mptu+Ruev2e",
      "include_colab_link": true
    },
    "kernelspec": {
      "name": "python3",
      "display_name": "Python 3"
    },
    "language_info": {
      "name": "python"
    }
  },
  "cells": [
    {
      "cell_type": "markdown",
      "metadata": {
        "id": "view-in-github",
        "colab_type": "text"
      },
      "source": [
        "<a href=\"https://colab.research.google.com/github/financieras/big_data/blob/main/retos_data.ipynb\" target=\"_parent\"><img src=\"https://colab.research.google.com/assets/colab-badge.svg\" alt=\"Open In Colab\"/></a>"
      ]
    },
    {
      "cell_type": "markdown",
      "source": [
        "# Reto1."
      ],
      "metadata": {
        "id": "lYwV__WP6ZPo"
      }
    },
    {
      "cell_type": "markdown",
      "source": [
        "# Reto 2."
      ],
      "metadata": {
        "id": "TyCRRGZG6pAv"
      }
    },
    {
      "cell_type": "markdown",
      "source": [
        "# Reto 3. Proporción de pasajeros en el Titanic\n",
        "- Descarga el dataset “Titanic” de Kaggle utilizando la librería `requests` o la API de Kaggle.\n",
        "- A continuación, calcula la proporción de pasajeros supervivientes según el sexo (hombres y mujeres).\n",
        "- Presenta el resultado como porcentaje para cada grupo utilizando Pandas y muestra los resultados de forma clara en tu notebook.\n",
        "- Presenta los resultados usando un gráfico de barras donde se muestre el porcentaje de supervivientes para hombres y mujeres. Utiliza matplotlib o seaborn para construir el gráfico de forma clara y sencilla.\n"
      ],
      "metadata": {
        "id": "XJrELMBL6r7m"
      }
    }
  ]
}