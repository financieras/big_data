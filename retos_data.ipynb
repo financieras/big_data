{
  "nbformat": 4,
  "nbformat_minor": 0,
  "metadata": {
    "colab": {
      "provenance": [],
      "authorship_tag": "ABX9TyMNigT5GwvOCRhQdKFgi2QD",
      "include_colab_link": true
    },
    "kernelspec": {
      "name": "python3",
      "display_name": "Python 3"
    },
    "language_info": {
      "name": "python"
    }
  },
  "cells": [
    {
      "cell_type": "markdown",
      "metadata": {
        "id": "view-in-github",
        "colab_type": "text"
      },
      "source": [
        "<a href=\"https://colab.research.google.com/github/financieras/big_data/blob/main/retos_data.ipynb\" target=\"_parent\"><img src=\"https://colab.research.google.com/assets/colab-badge.svg\" alt=\"Open In Colab\"/></a>"
      ]
    },
    {
      "cell_type": "markdown",
      "source": [
        "# Reto 1. Gestión de archivos en Google Colab\n",
        "- Objetivo: Familiarizarse con la interfaz de Colab y la gestión básica de archivos\n",
        "- Descarga manualmente el dataset Titanic desde Kaggle:\n",
        "  * Ve a https://www.kaggle.com/c/titanic/data\n",
        "  * Descarga `train.csv` a tu computadora\n",
        "- Sube el archivo manualmente a Google Colab usando el ícono de carpeta\n",
        "- Carga el dataset usando Pandas: `df = pd.read_csv('train.csv')`\n",
        "- Visualiza las primeras 5 filas con `.head()`\n",
        "- Entiende que los archivos subidos manualmente se pierden al cerrar la sesión\n",
        "- Monta Google Drive en Colab y guarda una copia del dataset allí\n",
        "- Carga el archivo desde Drive y verifica la persistencia\n",
        "\n",
        "# Reto 2. Carga directa desde URL y análisis exploratorio\n",
        "- Objetivo: Aprender a cargar datos directamente desde URLs\n",
        "- Carga el dataset Titanic directamente desde una URL usando Pandas:\n",
        "```python\n",
        "url = 'https://raw.githubusercontent.com/datasciencedojo/datasets/master/titanic.csv'\n",
        "df = pd.read_csv(url)\n",
        "```\n",
        "- Verifica que la carga fue exitosa con `.shape` y `.head()`\n",
        "- Explora los tipos de datos con `.dtypes`\n",
        "- Usa `.info()` para obtener un resumen general del dataset\n",
        "- Identifica valores nulos con `.isnull().sum()`\n",
        "- Calcula estadísticas descriptivas con `.describe()`\n",
        "- Cuenta valores únicos en columnas clave: \"Sex\", \"Pclass\", \"Embarked\"\n",
        "\n",
        "# Reto 3. Datasets embebidos y análisis de supervivencia\n",
        "- Objetivo: Conocer datasets pre-cargados en librerías y realizar análisis básico\n",
        "- Carga el dataset Titanic desde la librería Seaborn:\n",
        "```python\n",
        "import seaborn as sns\n",
        "df = sns.load_dataset('titanic')\n",
        "```\n",
        "- Es una versión simplificada, tiene menos columnas, como `PassengerId`, y algunas diferencias en nulos o formato.\n",
        "- Calcula la proporción de supervivientes por sexo usando `groupby`.\n",
        "- Calcula también la proporción de supervivientes por clase (\"pclass\")\n",
        "- Crea visualizaciones claras:\n",
        "  * Gráfico de barras para supervivencia por sexo\n",
        "  * Gráfico de barras para supervivencia por clase\n",
        "- Usa matplotlib o seaborn para los gráficos\n",
        "- Añade títulos, etiquetas y porcentajes en las barras\n",
        "\n",
        "# Reto 4. Limpieza básica de datos\n",
        "- Identifica las columnas con valores nulos\n",
        "- Rellena los valores nulos en \"Age\" con la mediana\n",
        "- Elimina la columna \"Cabin\" por tener demasiados valores nulos\n",
        "- Crea una nueva columna \"FamilySize\" sumando SibSp + Parch\n",
        "\n",
        "# Reto 5. Filtros y consultas básicas\n",
        "- Filtra los pasajeros de primera clase que sobrevivieron\n",
        "- Encuentra el pasajero más joven y el más viejo\n",
        "- Calcula la tarifa promedio por clase\n",
        "- Filtra mujeres menores de 18 años que sobrevivieron\n",
        "- ¿Cuántas mujeres menores de 18 sobrevivieron?"
      ],
      "metadata": {
        "id": "TyCRRGZG6pAv"
      }
    }
  ]
}